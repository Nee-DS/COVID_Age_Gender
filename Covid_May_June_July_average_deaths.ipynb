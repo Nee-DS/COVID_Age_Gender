{
 "cells": [
  {
   "cell_type": "code",
   "execution_count": 1,
   "metadata": {
    "colab": {},
    "colab_type": "code",
    "id": "m7tLpcg_FYC7"
   },
   "outputs": [],
   "source": [
    "import numpy as np\n",
    "import pandas as pd \n",
    "import os\n",
    "import shutil\n",
    "import matplotlib.pyplot as plt\n",
    "import seaborn as sns\n",
    "from scipy import stats\n",
    "sns.set(style=\"whitegrid\")\n",
    "from matplotlib import rcParams\n",
    "import matplotlib.pyplot as plt\n",
    "from IPython import display\n",
    "from ipywidgets import interact, widgets\n",
    "%matplotlib inline\n",
    "import scipy.stats"
   ]
  },
  {
   "cell_type": "code",
   "execution_count": 2,
   "metadata": {
    "colab": {},
    "colab_type": "code",
    "id": "0zTKXXakFKdT"
   },
   "outputs": [],
   "source": [
    "df1=pd.read_excel(\"COVID-19_Death_Counts_5_6_2020.xlsx\") \n",
    "df2=pd.read_excel(\"COVID-19_Death_Counts_5_13_2020.xlsx\")\n",
    "df3=pd.read_excel(\"COVID-19_Death_Counts_5_28_2020.xlsx\")\n",
    "df4=pd.read_excel(\"COVID-19_Death_Counts_6_3_2020.xlsx\")\n",
    "df5=pd.read_excel(\"COVID-19_Death_Counts_6_10_2020.xlsx\")\n",
    "df6=pd.read_excel(\"COVID-19_Death_Counts_6_17_2020.xlsx\")\n",
    "df7=pd.read_excel(\"COVID-19_Death_Counts_6_24_2020.xlsx\")\n",
    "df8=pd.read_excel(\"COVID-19_Death_Counts_7_1_2020.xlsx\")\n",
    "df9=pd.read_excel(\"COVID-19_Death_Counts_7_8_2020.xlsx\")\n",
    "df10=pd.read_excel(\"COVID-19_Death_Counts_7_22_2020.xlsx\")\n",
    "df11=pd.read_excel(\"COVID-19_Death_Counts_7_29_2020.xlsx\")\n"
   ]
  },
  {
   "cell_type": "code",
   "execution_count": 3,
   "metadata": {
    "colab": {},
    "colab_type": "code",
    "id": "CpQfXghiHjNi"
   },
   "outputs": [],
   "source": [
    "# rename all the columns in the excel file \n",
    "def rename(df):\n",
    "    df.rename(columns={'Start week':'Start_week','End Week':'End_Week','Age group':'Age_group','COVID-19 Deaths':'COVID-19_Deaths',\n",
    "                   'Total Deaths':'Total_Deaths','Pneumonia Deaths':'Pneumonia_Deaths','Pneumonia and COVID-19 Deaths':'Pneumonia_COVID-19_Deaths',\n",
    "                     'Influenza Deaths':'Influenza_Deaths','Pneumonia, Influenza, or COVID-19 Deaths': 'P_I_C_deaths'}, inplace=True)\n",
    "  \n"
   ]
  },
  {
   "cell_type": "code",
   "execution_count": 4,
   "metadata": {
    "colab": {},
    "colab_type": "code",
    "id": "VHeljATcwSsV"
   },
   "outputs": [],
   "source": [
    "rename(df1)\n",
    "rename(df2)\n",
    "rename(df3)\n",
    "rename(df4)\n",
    "rename(df5)\n",
    "rename(df6)\n",
    "rename(df7)\n",
    "rename(df8)\n",
    "rename(df9)\n",
    "rename(df10)\n",
    "rename(df11)"
   ]
  },
  {
   "cell_type": "code",
   "execution_count": 5,
   "metadata": {
    "colab": {},
    "colab_type": "code",
    "id": "g2vw7zp9_E2_"
   },
   "outputs": [],
   "source": [
    "dict_age={'Under 1 year':'less_than_1_year','1-4 years':'1_to_4','5-14 years':'5_to_14','15-24 years':'15_to_24',\n",
    "       '25-34 years':'25_to_34', '35-44 years':'35_to_44', '45-54 years':'45_to_54', '55-64 years':'55_to_64',\n",
    "       '65-74 years':'65_to_74', '75-84 years':'75_to_84', '85 years and over':'more_than_85','Female, all ages':'Female_all',\n",
    "                                          'All ages':'All_age','Male, all ages':'Male_all','All Ages':'All_age'}"
   ]
  },
  {
   "cell_type": "code",
   "execution_count": 6,
   "metadata": {
    "colab": {},
    "colab_type": "code",
    "id": "fhM95fd6jGfn"
   },
   "outputs": [],
   "source": [
    "#replace the Age_group column with formatted strings\n",
    "df1.Age_group= df1.Age_group.replace(dict_age) \n",
    "\n",
    "df2.Age_group= df2.Age_group.replace(dict_age) \n",
    "\n",
    "df3.Age_group= df3.Age_group.replace(dict_age) \n",
    "\n",
    "df4.Age_group= df4.Age_group.replace(dict_age) \n",
    "\n",
    "df5.Age_group= df5.Age_group.replace(dict_age) \n",
    "\n",
    "df6.Age_group= df6.Age_group.replace(dict_age) \n",
    "\n",
    "df7.Age_group= df7.Age_group.replace(dict_age) \n",
    "\n",
    "df8.Age_group= df8.Age_group.replace(dict_age) \n",
    "\n",
    "df9.Age_group= df9.Age_group.replace(dict_age) \n",
    "\n",
    "df10.Age_group= df10.Age_group.replace(dict_age) \n",
    "\n",
    "df11.Age_group= df11.Age_group.replace(dict_age) \n",
    "\n",
    "\n"
   ]
  },
  {
   "cell_type": "code",
   "execution_count": 7,
   "metadata": {
    "colab": {},
    "colab_type": "code",
    "id": "H-CQDhzvw2Lu"
   },
   "outputs": [],
   "source": [
    "#replace the column with sex to All_sexes as we are collecting the overall data and will not be differentiating on sex"
   ]
  },
  {
   "cell_type": "code",
   "execution_count": 8,
   "metadata": {
    "colab": {},
    "colab_type": "code",
    "id": "yxHKf7IbTA9i"
   },
   "outputs": [],
   "source": [
    "df1[\"Sex\"]= df1[\"Sex\"].replace({'All Sexes':'All_Sexes'}) \n",
    "df2[\"Sex\"]= df2[\"Sex\"].replace({'All Sexes':'All_Sexes'}) \n",
    "df3[\"Sex\"]= df3[\"Sex\"].replace({'All Sexes':'All_Sexes'}) \n",
    "df4[\"Sex\"]= df4[\"Sex\"].replace({'All Sexes':'All_Sexes'}) \n",
    "df5[\"Sex\"]= df5[\"Sex\"].replace({'All Sexes':'All_Sexes'}) \n",
    "df6[\"Sex\"]= df6[\"Sex\"].replace({'All Sexes':'All_Sexes'}) \n",
    "df7[\"Sex\"]= df7[\"Sex\"].replace({'All Sexes':'All_Sexes'}) \n",
    "df8[\"Sex\"]= df8[\"Sex\"].replace({'All Sexes':'All_Sexes'}) \n",
    "df9[\"Sex\"]= df9[\"Sex\"].replace({'All Sexes':'All_Sexes'}) \n",
    "df10[\"Sex\"]= df10[\"Sex\"].replace({'All Sexes':'All_Sexes'}) \n",
    "df11[\"Sex\"]= df11[\"Sex\"].replace({'All Sexes':'All_Sexes'}) "
   ]
  },
  {
   "cell_type": "code",
   "execution_count": 9,
   "metadata": {
    "colab": {},
    "colab_type": "code",
    "id": "r0u5aRKaIJ8v"
   },
   "outputs": [],
   "source": [
    "df1 = df1[['State', 'Age_group', 'COVID-19_Deaths','Total_Deaths','Sex']]\n",
    "df2 = df2[['State', 'Age_group', 'COVID-19_Deaths','Total_Deaths','Sex']]\n",
    "df3 = df3[['State', 'Age_group', 'COVID-19_Deaths','Total_Deaths','Sex']]\n",
    "df4 = df4[['State', 'Age_group', 'COVID-19_Deaths','Total_Deaths','Sex']]\n",
    "df5 = df5[['State', 'Age_group', 'COVID-19_Deaths','Total_Deaths','Sex']]\n",
    "df6 = df6[['State', 'Age_group', 'COVID-19_Deaths','Total_Deaths','Sex']]\n",
    "df7 = df7[['State', 'Age_group', 'COVID-19_Deaths','Total_Deaths','Sex']]\n",
    "df8 = df8[['State', 'Age_group', 'COVID-19_Deaths','Total_Deaths','Sex']]\n",
    "df9 = df9[['State', 'Age_group', 'COVID-19_Deaths','Total_Deaths','Sex']]\n",
    "df10 = df10[['State', 'Age_group', 'COVID-19_Deaths','Total_Deaths','Sex']]\n",
    "df11 = df11[['State', 'Age_group', 'COVID-19_Deaths','Total_Deaths','Sex']]\n"
   ]
  },
  {
   "cell_type": "code",
   "execution_count": 10,
   "metadata": {
    "colab": {},
    "colab_type": "code",
    "id": "1LuilaBYIKJH"
   },
   "outputs": [],
   "source": [
    "df_5_6 = df1.fillna(0)\n",
    "df_5_13 = df2.fillna(0)\n",
    "df_5_28 = df3.fillna(0)\n",
    "df_6_3 = df4.fillna(0)\n",
    "df_6_10 = df5.fillna(0)\n",
    "df_6_17 = df6.fillna(0)\n",
    "df_6_24 = df7.fillna(0)\n",
    "df_7_1 = df8.fillna(0)\n",
    "df_7_8 = df9.fillna(0)\n",
    "df_7_22 = df10.fillna(0)\n",
    "df_7_29 = df11.fillna(0)"
   ]
  },
  {
   "cell_type": "code",
   "execution_count": 11,
   "metadata": {
    "colab": {},
    "colab_type": "code",
    "id": "i5XZ_2kHHjnM"
   },
   "outputs": [],
   "source": [
    "ages=['less_than_1_year','1_to_4','5_to_14','15_to_24',\n",
    "      '25_to_34', '35_to_44', '45_to_54', '55_to_64','65_to_74', '75_to_84', 'more_than_85']\n"
   ]
  },
  {
   "cell_type": "code",
   "execution_count": 12,
   "metadata": {
    "colab": {},
    "colab_type": "code",
    "id": "O3OkbXEVT8M1"
   },
   "outputs": [],
   "source": [
    "df_5_6_=df_5_6[df_5_6['Age_group'].isin(ages)]\n",
    "df_5_13_=df_5_13[df_5_13['Age_group'].isin(ages)]\n",
    "df_5_28_=df_5_28[df_5_28['Age_group'].isin(ages)]\n",
    "df_6_3_=df_6_3[df_6_3['Age_group'].isin(ages)]\n",
    "df_6_10_=df_6_10[df_6_10['Age_group'].isin(ages)]\n",
    "df_6_17_=df_6_17[df_6_17['Age_group'].isin(ages)]\n",
    "df_6_24_=df_6_24[df_6_24['Age_group'].isin(ages)]\n",
    "df_7_1_=df_7_1[df_7_1['Age_group'].isin(ages)]\n",
    "df_7_8_=df_7_8[df_7_8['Age_group'].isin(ages)]\n",
    "df_7_22_=df_7_22[df_7_22['Age_group'].isin(ages)]\n",
    "df_7_29_=df_7_29[df_7_29['Age_group'].isin(ages)]"
   ]
  },
  {
   "cell_type": "code",
   "execution_count": 13,
   "metadata": {
    "colab": {},
    "colab_type": "code",
    "id": "ev-O2W13If5Q"
   },
   "outputs": [],
   "source": [
    "string_list=['Female_all','All_age','Male_all']\n",
    "df_5_6_final = df_5_6_[~df_5_6_['Age_group'].isin(string_list)]\n",
    "df_5_13_final = df_5_13_[~df_5_13_['Age_group'].isin(string_list)]\n",
    "df_5_28_final = df_5_28_[~df_5_28_['Age_group'].isin(string_list)]\n",
    "df_6_3_final = df_6_3_[~df_6_3_['Age_group'].isin(string_list)]\n",
    "df_6_10_final = df_6_10_[~df_6_10_['Age_group'].isin(string_list)]\n",
    "df_6_17_final = df_6_17_[~df_6_17_['Age_group'].isin(string_list)]\n",
    "df_6_24_final = df_6_24_[~df_6_24_['Age_group'].isin(string_list)]\n",
    "df_7_1_final = df_7_1_[~df_7_1_['Age_group'].isin(string_list)]\n",
    "df_7_8_final = df_7_8_[~df_7_1_['Age_group'].isin(string_list)]\n",
    "df_7_22_final = df_7_22_[~df_7_22_['Age_group'].isin(string_list)]\n",
    "df_7_29_final = df_7_29_[~df_7_29_['Age_group'].isin(string_list)]"
   ]
  },
  {
   "cell_type": "code",
   "execution_count": 14,
   "metadata": {
    "colab": {},
    "colab_type": "code",
    "id": "qAqdw2kvtzax"
   },
   "outputs": [],
   "source": [
    "df_5_6_final2=df_5_6_final[~df_5_6_final.Sex.str.contains(\"All_Sexes\")]\n",
    "df_5_13_final2=df_5_13_final[~df_5_13_final.Sex.str.contains(\"All_Sexes\")]\n",
    "df_5_28_final2=df_5_28_final[~df_5_28_final.Sex.str.contains(\"All_Sexes\")]\n",
    "df_6_3_final2=df_6_3_final[~df_6_3_final.Sex.str.contains(\"All_Sexes\")]\n",
    "df_6_10_final2=df_6_10_final[~df_6_10_final.Sex.str.contains(\"All_Sexes\")]\n",
    "df_6_17_final2=df_6_17_final[~df_6_17_final.Sex.str.contains(\"All_Sexes\")]\n",
    "df_6_24_final2=df_6_24_final[~df_6_24_final.Sex.str.contains(\"All_Sexes\")]\n",
    "df_7_1_final2=df_7_1_final[~df_7_1_final.Sex.str.contains(\"All_Sexes\")]\n",
    "df_7_8_final2=df_7_8_final[~df_7_8_final.Sex.str.contains(\"All_Sexes\")]\n",
    "df_7_22_final2=df_7_22_final[~df_7_22_final.Sex.str.contains(\"All_Sexes\")]\n",
    "df_7_29_final2=df_7_29_final[~df_7_29_final.Sex.str.contains(\"All_Sexes\")]\n"
   ]
  },
  {
   "cell_type": "code",
   "execution_count": 15,
   "metadata": {
    "colab": {},
    "colab_type": "code",
    "id": "f3Ir-HdvyLsm"
   },
   "outputs": [],
   "source": [
    "df_5_6_2020=df_5_6_final2.groupby(['State','Age_group']).agg({'COVID-19_Deaths':'sum','Total_Deaths':'sum'}).reset_index()\n",
    "df_5_13_2020=df_5_13_final2.groupby(['State','Age_group']).agg({'COVID-19_Deaths':'sum','Total_Deaths':'sum'}).reset_index()\n",
    "df_5_28_2020=df_5_28_final2.groupby(['State','Age_group']).agg({'COVID-19_Deaths':'sum','Total_Deaths':'sum'}).reset_index()\n",
    "df_6_3_2020=df_6_3_final2.groupby(['State','Age_group']).agg({'COVID-19_Deaths':'sum','Total_Deaths':'sum'}).reset_index()\n",
    "df_6_10_2020=df_6_10_final2.groupby(['State','Age_group']).agg({'COVID-19_Deaths':'sum','Total_Deaths':'sum'}).reset_index()\n",
    "df_6_17_2020=df_6_17_final2.groupby(['State','Age_group']).agg({'COVID-19_Deaths':'sum','Total_Deaths':'sum'}).reset_index()\n",
    "df_6_24_2020=df_6_24_final2.groupby(['State','Age_group']).agg({'COVID-19_Deaths':'sum','Total_Deaths':'sum'}).reset_index()\n",
    "df_7_1_2020=df_7_1_final2.groupby(['State','Age_group']).agg({'COVID-19_Deaths':'sum','Total_Deaths':'sum'}).reset_index()\n",
    "df_7_8_2020=df_7_8_final2.groupby(['State','Age_group']).agg({'COVID-19_Deaths':'sum','Total_Deaths':'sum'}).reset_index()\n",
    "df_7_22_2020=df_7_22_final2.groupby(['State','Age_group']).agg({'COVID-19_Deaths':'sum','Total_Deaths':'sum'}).reset_index()\n",
    "df_7_29_2020=df_7_29_final2.groupby(['State','Age_group']).agg({'COVID-19_Deaths':'sum','Total_Deaths':'sum'}).reset_index()"
   ]
  },
  {
   "cell_type": "code",
   "execution_count": 16,
   "metadata": {
    "colab": {},
    "colab_type": "code",
    "id": "HIJhyLgdeX7T"
   },
   "outputs": [],
   "source": [
    "\n",
    "\n",
    "df_5_6_2020['avg_death']=df_5_6_2020['COVID-19_Deaths']/df_5_6_2020['Total_Deaths']\n",
    "\n",
    "df_5_13_2020['avg_death']=df_5_13_2020['COVID-19_Deaths']/df_5_13_2020['Total_Deaths']\n",
    "df_5_28_2020['avg_death']=df_5_28_2020['COVID-19_Deaths']/df_5_28_2020['Total_Deaths']\n",
    "df_6_3_2020['avg_death']=df_6_3_2020['COVID-19_Deaths']/df_6_3_2020['Total_Deaths']\n",
    "df_6_10_2020['avg_death']=df_6_10_2020['COVID-19_Deaths']/df_6_10_2020['Total_Deaths']\n",
    "df_6_17_2020['avg_death']=df_6_17_2020['COVID-19_Deaths']/df_6_17_2020['Total_Deaths']\n",
    "df_6_24_2020['avg_death']=df_6_24_2020['COVID-19_Deaths']/df_6_24_2020['Total_Deaths']\n",
    "df_7_1_2020['avg_death']=df_7_1_2020['COVID-19_Deaths']/df_7_1_2020['Total_Deaths']\n",
    "df_7_8_2020['avg_death']=df_7_8_2020['COVID-19_Deaths']/df_7_8_2020['Total_Deaths']\n",
    "df_7_22_2020['avg_death']=df_7_22_2020['COVID-19_Deaths']/df_7_22_2020['Total_Deaths']\n",
    "df_7_29_2020['avg_death']=df_7_29_2020['COVID-19_Deaths']/df_7_29_2020['Total_Deaths']\n"
   ]
  },
  {
   "cell_type": "code",
   "execution_count": 17,
   "metadata": {
    "colab": {},
    "colab_type": "code",
    "id": "0FVHgIjMffPj"
   },
   "outputs": [],
   "source": [
    "df_5_6_2020 = df_5_6_2020.fillna(0)\n",
    "df_5_13_2020 = df_5_13_2020.fillna(0)\n",
    "df_5_28_2020 = df_5_28_2020.fillna(0)\n",
    "df_6_3_2020 = df_6_3_2020.fillna(0)\n",
    "df_6_10_2020 = df_6_10_2020.fillna(0)\n",
    "df_6_17_2020 = df_6_17_2020.fillna(0)\n",
    "df_6_24_2020 = df_6_24_2020.fillna(0)\n",
    "df_7_1_2020 = df_7_1_2020.fillna(0)\n",
    "df_7_8_2020 = df_7_8_2020.fillna(0)\n",
    "df_7_22_2020 = df_7_22_2020.fillna(0)\n",
    "df_7_29_2020 = df_7_29_2020.fillna(0)"
   ]
  },
  {
   "cell_type": "code",
   "execution_count": 18,
   "metadata": {
    "colab": {},
    "colab_type": "code",
    "id": "sWnxQTmvfmpA"
   },
   "outputs": [],
   "source": [
    "df_5_6_2020.Age_group=pd.Categorical(df_5_6_2020.Age_group,categories=['less_than_1_year','1_to_4','5_to_14','15_to_24',\n",
    "      '25_to_34', '35_to_44', '45_to_54', '55_to_64','65_to_74', '75_to_84', 'more_than_85'])\n",
    "df_5_6_2020=df_5_6_2020.sort_values('Age_group')\n",
    "\n",
    "df_5_13_2020.Age_group=pd.Categorical(df_5_13_2020.Age_group,categories=['less_than_1_year','1_to_4','5_to_14','15_to_24',\n",
    "      '25_to_34', '35_to_44', '45_to_54', '55_to_64','65_to_74', '75_to_84', 'more_than_85'])\n",
    "df_5_13_2020=df_5_13_2020.sort_values('Age_group')\n",
    "\n",
    "df_5_28_2020.Age_group=pd.Categorical(df_5_28_2020.Age_group,categories=['less_than_1_year','1_to_4','5_to_14','15_to_24',\n",
    "      '25_to_34', '35_to_44', '45_to_54', '55_to_64','65_to_74', '75_to_84', 'more_than_85'])\n",
    "df_5_28_2020=df_5_28_2020.sort_values('Age_group')\n",
    "\n",
    "df_6_3_2020.Age_group=pd.Categorical(df_6_3_2020.Age_group,categories=['less_than_1_year','1_to_4','5_to_14','15_to_24',\n",
    "      '25_to_34', '35_to_44', '45_to_54', '55_to_64','65_to_74', '75_to_84', 'more_than_85'])\n",
    "df_6_3_2020=df_6_3_2020.sort_values('Age_group')\n",
    "\n",
    "df_6_10_2020.Age_group=pd.Categorical(df_6_10_2020.Age_group,categories=['less_than_1_year','1_to_4','5_to_14','15_to_24',\n",
    "      '25_to_34', '35_to_44', '45_to_54', '55_to_64','65_to_74', '75_to_84', 'more_than_85'])\n",
    "df_6_10_2020=df_6_10_2020.sort_values('Age_group')\n",
    "\n",
    "df_6_17_2020.Age_group=pd.Categorical(df_6_17_2020.Age_group,categories=['less_than_1_year','1_to_4','5_to_14','15_to_24',\n",
    "      '25_to_34', '35_to_44', '45_to_54', '55_to_64','65_to_74', '75_to_84', 'more_than_85'])\n",
    "df_6_17_2020=df_6_17_2020.sort_values('Age_group')\n",
    "\n",
    "df_6_24_2020.Age_group=pd.Categorical(df_6_24_2020.Age_group,categories=['less_than_1_year','1_to_4','5_to_14','15_to_24',\n",
    "      '25_to_34', '35_to_44', '45_to_54', '55_to_64','65_to_74', '75_to_84', 'more_than_85'])\n",
    "df_6_24_2020=df_6_24_2020.sort_values('Age_group')\n",
    "\n",
    "df_7_1_2020.Age_group=pd.Categorical(df_7_1_2020.Age_group,categories=['less_than_1_year','1_to_4','5_to_14','15_to_24',\n",
    "      '25_to_34', '35_to_44', '45_to_54', '55_to_64','65_to_74', '75_to_84', 'more_than_85'])\n",
    "df_7_1_2020=df_7_1_2020.sort_values('Age_group')\n",
    "\n",
    "df_7_8_2020.Age_group=pd.Categorical(df_7_8_2020.Age_group,categories=['less_than_1_year','1_to_4','5_to_14','15_to_24',\n",
    "      '25_to_34', '35_to_44', '45_to_54', '55_to_64','65_to_74', '75_to_84', 'more_than_85'])\n",
    "df_7_8_2020=df_7_8_2020.sort_values('Age_group')\n",
    "\n",
    "df_7_22_2020.Age_group=pd.Categorical(df_7_22_2020.Age_group,categories=['less_than_1_year','1_to_4','5_to_14','15_to_24',\n",
    "      '25_to_34', '35_to_44', '45_to_54', '55_to_64','65_to_74', '75_to_84', 'more_than_85'])\n",
    "df_7_22_2020=df_7_22_2020.sort_values('Age_group')\n",
    "\n",
    "df_7_29_2020.Age_group=pd.Categorical(df_7_29_2020.Age_group,categories=['less_than_1_year','1_to_4','5_to_14','15_to_24',\n",
    "      '25_to_34', '35_to_44', '45_to_54', '55_to_64','65_to_74', '75_to_84', 'more_than_85'])\n",
    "df_7_29_2020=df_7_29_2020.sort_values('Age_group')"
   ]
  },
  {
   "cell_type": "code",
   "execution_count": 19,
   "metadata": {
    "colab": {},
    "colab_type": "code",
    "id": "HFbqpejMUPKN"
   },
   "outputs": [],
   "source": [
    "df_5_6_2020=pd.pivot_table(df_5_6_2020, values = 'COVID-19_Deaths', index=['Age_group'], columns = 'State').reset_index()\n",
    "df_5_13_2020=pd.pivot_table(df_5_13_2020, values = 'COVID-19_Deaths', index=['Age_group'], columns = 'State').reset_index()\n",
    "df_5_28_2020=pd.pivot_table(df_5_28_2020, values = 'COVID-19_Deaths', index=['Age_group'], columns = 'State').reset_index()\n",
    "df_6_3_2020=pd.pivot_table(df_6_3_2020, values = 'COVID-19_Deaths', index=['Age_group'], columns = 'State').reset_index()\n",
    "df_6_10_2020=pd.pivot_table(df_6_10_2020, values = 'COVID-19_Deaths', index=['Age_group'], columns = 'State').reset_index()\n",
    "df_6_17_2020=pd.pivot_table(df_6_17_2020, values = 'COVID-19_Deaths', index=['Age_group'], columns = 'State').reset_index()\n",
    "df_6_24_2020=pd.pivot_table(df_6_24_2020, values = 'COVID-19_Deaths', index=['Age_group'], columns = 'State').reset_index()\n",
    "df_7_1_2020=pd.pivot_table(df_7_1_2020, values = 'COVID-19_Deaths', index=['Age_group'], columns = 'State').reset_index()\n",
    "df_7_8_2020=pd.pivot_table(df_7_8_2020, values = 'COVID-19_Deaths', index=['Age_group'], columns = 'State').reset_index()\n",
    "df_7_22_2020=pd.pivot_table(df_7_22_2020, values = 'COVID-19_Deaths', index=['Age_group'], columns = 'State').reset_index()\n",
    "df_7_29_2020=pd.pivot_table(df_7_29_2020, values = 'COVID-19_Deaths', index=['Age_group'], columns = 'State').reset_index()"
   ]
  },
  {
   "cell_type": "code",
   "execution_count": 20,
   "metadata": {
    "colab": {},
    "colab_type": "code",
    "id": "0GWpyYkNejUE"
   },
   "outputs": [],
   "source": [
    "df_5_6_2020[\"Age_group\"].replace({'less_than_1_year':0.5,'1_to_4':2.5,'5_to_14':9.5,'15_to_24':19.5,'25_to_34':29.5, '35_to_44':39.5, '45_to_54':49.5, '55_to_64':59.5,'65_to_74':69.5, '75_to_84':79.5, 'more_than_85':92.5}, inplace=True)\n",
    "df_5_13_2020[\"Age_group\"].replace({'less_than_1_year':0.5,'1_to_4':2.5,'5_to_14':9.5,'15_to_24':19.5,'25_to_34':29.5, '35_to_44':39.5, '45_to_54':49.5, '55_to_64':59.5,'65_to_74':69.5, '75_to_84':79.5, 'more_than_85':92.5}, inplace=True)\n",
    "df_5_28_2020[\"Age_group\"].replace({'less_than_1_year':0.5,'1_to_4':2.5,'5_to_14':9.5,'15_to_24':19.5,'25_to_34':29.5, '35_to_44':39.5, '45_to_54':49.5, '55_to_64':59.5,'65_to_74':69.5, '75_to_84':79.5, 'more_than_85':92.5}, inplace=True)\n",
    "df_6_3_2020[\"Age_group\"].replace({'less_than_1_year':0.5,'1_to_4':2.5,'5_to_14':9.5,'15_to_24':19.5,'25_to_34':29.5, '35_to_44':39.5, '45_to_54':49.5, '55_to_64':59.5,'65_to_74':69.5, '75_to_84':79.5, 'more_than_85':92.5}, inplace=True)\n",
    "df_6_10_2020[\"Age_group\"].replace({'less_than_1_year':0.5,'1_to_4':2.5,'5_to_14':9.5,'15_to_24':19.5,'25_to_34':29.5, '35_to_44':39.5, '45_to_54':49.5, '55_to_64':59.5,'65_to_74':69.5, '75_to_84':79.5, 'more_than_85':92.5}, inplace=True)\n",
    "df_6_17_2020[\"Age_group\"].replace({'less_than_1_year':0.5,'1_to_4':2.5,'5_to_14':9.5,'15_to_24':19.5,'25_to_34':29.5, '35_to_44':39.5, '45_to_54':49.5, '55_to_64':59.5,'65_to_74':69.5, '75_to_84':79.5, 'more_than_85':92.5}, inplace=True)\n",
    "df_6_24_2020[\"Age_group\"].replace({'less_than_1_year':0.5,'1_to_4':2.5,'5_to_14':9.5,'15_to_24':19.5,'25_to_34':29.5, '35_to_44':39.5, '45_to_54':49.5, '55_to_64':59.5,'65_to_74':69.5, '75_to_84':79.5, 'more_than_85':92.5}, inplace=True)\n",
    "df_7_1_2020[\"Age_group\"].replace({'less_than_1_year':0.5,'1_to_4':2.5,'5_to_14':9.5,'15_to_24':19.5,'25_to_34':29.5, '35_to_44':39.5, '45_to_54':49.5, '55_to_64':59.5,'65_to_74':69.5, '75_to_84':79.5, 'more_than_85':92.5}, inplace=True)\n",
    "df_7_8_2020[\"Age_group\"].replace({'less_than_1_year':0.5,'1_to_4':2.5,'5_to_14':9.5,'15_to_24':19.5,'25_to_34':29.5, '35_to_44':39.5, '45_to_54':49.5, '55_to_64':59.5,'65_to_74':69.5, '75_to_84':79.5, 'more_than_85':92.5}, inplace=True)\n",
    "df_7_22_2020[\"Age_group\"].replace({'less_than_1_year':0.5,'1_to_4':2.5,'5_to_14':9.5,'15_to_24':19.5,'25_to_34':29.5, '35_to_44':39.5, '45_to_54':49.5, '55_to_64':59.5,'65_to_74':69.5, '75_to_84':79.5, 'more_than_85':92.5}, inplace=True)\n",
    "df_7_29_2020[\"Age_group\"].replace({'less_than_1_year':0.5,'1_to_4':2.5,'5_to_14':9.5,'15_to_24':19.5,'25_to_34':29.5, '35_to_44':39.5, '45_to_54':49.5, '55_to_64':59.5,'65_to_74':69.5, '75_to_84':79.5, 'more_than_85':92.5}, inplace=True)\n"
   ]
  },
  {
   "cell_type": "code",
   "execution_count": 21,
   "metadata": {
    "colab": {},
    "colab_type": "code",
    "id": "0a-s0qNIAKBl"
   },
   "outputs": [],
   "source": [
    "states={'Alabama':'AL','Alaska':'AK','Arizona':'AZ','Arkansas':'AR','California':'CA','Colorado':'CO','Connecticut': 'CT','Delaware': 'DE','District of Columbia':'DoC','Florida':'FL','Georgia':'GA',\n",
    "'Hawaii':'HI','Idaho':'ID','Illinois': 'IL','Indiana': 'IN', 'Iowa':'IA','Kansas':'KS','Kentucky':'KY', 'Louisiana':'LA','Maine': 'ME', 'Maryland':'MD','Massachusetts': 'MA',\n",
    "'Michigan': 'MI','Minnesota':'MN','Mississippi':'MS', 'Missouri':'MO','Montana': 'MT','Nebraska':'NE','Nevada':'NV','New Hampshire': 'NH','New Jersey':'NJ','New York City':'NYC','New Mexico':'NM',\n",
    "'New York':'NY','North Carolina':'NC','North Dakota': 'ND','Ohio':'OH','Oklahoma':'OK','Oregon':'OR','Pennsylvania': 'PA','Puerto Rico':'PR','Rhode Island': 'RI','South Carolina' :'SC',\n",
    "'South Dakota': 'SD','Tennessee':'TN','Texas': 'TX','United States':'US','Utah':'UT','Vermont': 'VT','Virginia': 'VA','Washington': 'WA','West Virginia': 'WV','Wisconsin': 'WI','Wyoming': 'WY'}"
   ]
  },
  {
   "cell_type": "code",
   "execution_count": 22,
   "metadata": {
    "colab": {},
    "colab_type": "code",
    "id": "CW1r6Y1RPZIL"
   },
   "outputs": [],
   "source": [
    "df1=df_5_6_2020.rename(columns=states)\n",
    "\n",
    "df2=df_5_13_2020.rename(columns=states)\n",
    "\n",
    "df3=df_5_28_2020.rename(columns=states)\n",
    "\n",
    "df4=df_6_3_2020.rename(columns=states)\n",
    "\n",
    "df5=df_6_10_2020.rename(columns=states)\n",
    "\n",
    "df6=df_6_17_2020.rename(columns=states)\n",
    "\n",
    "df7=df_6_24_2020.rename(columns=states)\n",
    "\n",
    "df8=df_7_1_2020.rename(columns=states)\n",
    "\n",
    "df9=df_7_8_2020.rename(columns=states)\n",
    "\n",
    "df10=df_7_22_2020.rename(columns=states)\n",
    "\n",
    "df11=df_7_29_2020.rename(columns=states)"
   ]
  },
  {
   "cell_type": "code",
   "execution_count": 23,
   "metadata": {
    "colab": {},
    "colab_type": "code",
    "id": "mdfwDYgPZ8yO"
   },
   "outputs": [],
   "source": [
    "df1_US=df1['US']\n",
    "df1_age=df1['Age_group']\n",
    "\n",
    "df2_US=df2[\"US\"]\n",
    "df2_age=df2[\"Age_group\"]\n",
    "\n",
    "df3_US=df3[\"US\"]\n",
    "df3_age=df3[\"Age_group\"]\n",
    "\n",
    "df4_US=df4[\"US\"]\n",
    "df4_age=df4[\"Age_group\"]\n",
    "\n",
    "df5_US=df5[\"US\"]\n",
    "df5_age=df5[\"Age_group\"]\n",
    "\n",
    "df6_US=df6[\"US\"]\n",
    "df6_age=df6[\"Age_group\"]\n",
    "\n",
    "df7_US=df7[\"US\"]\n",
    "df7_age=df7[\"Age_group\"]\n",
    "\n",
    "df8_US=df8[\"US\"]\n",
    "df8_age=df8[\"Age_group\"]\n",
    "\n",
    "df9_US=df9[\"US\"]\n",
    "df9_age=df9[\"Age_group\"]\n",
    "\n",
    "df10_US=df10[\"US\"]\n",
    "df10_age=df10[\"Age_group\"]\n",
    "\n",
    "df11_US=df11[\"US\"]\n",
    "df11_age=df11[\"Age_group\"]\n"
   ]
  },
  {
   "cell_type": "code",
   "execution_count": 24,
   "metadata": {
    "colab": {},
    "colab_type": "code",
    "id": "XQNCkzFbamOF"
   },
   "outputs": [],
   "source": [
    "df1_US=pd.DataFrame({\"Age\":df1_age,\"US\":df1_US})\n",
    "df2_US=pd.DataFrame({\"Age\":df2_age,\"US\":df2_US})\n",
    "df3_US=pd.DataFrame({\"Age\":df3_age,\"US\":df3_US})\n",
    "df4_US=pd.DataFrame({\"Age\":df4_age,\"US\":df4_US})\n",
    "df5_US=pd.DataFrame({\"Age\":df5_age,\"US\":df5_US})\n",
    "df6_US=pd.DataFrame({\"Age\":df6_age,\"US\":df6_US})\n",
    "df7_US=pd.DataFrame({\"Age\":df7_age,\"US\":df7_US})\n",
    "df8_US=pd.DataFrame({\"Age\":df8_age,\"US\":df8_US})\n",
    "df9_US=pd.DataFrame({\"Age\":df9_age,\"US\":df9_US})\n",
    "df10_US=pd.DataFrame({\"Age\":df10_age,\"US\":df10_US})\n",
    "df11_US=pd.DataFrame({\"Age\":df11_age,\"US\":df11_US})\n"
   ]
  },
  {
   "cell_type": "code",
   "execution_count": 25,
   "metadata": {
    "colab": {},
    "colab_type": "code",
    "id": "ULLi1EnVdR-h"
   },
   "outputs": [],
   "source": [
    "df1_US_avg=round(df1_US[[\"US\"]].multiply(df1_US[\"Age\"],axis=\"index\").sum()/df1_US[\"US\"].sum())\n",
    "df2_US_avg=round(df2_US[[\"US\"]].multiply(df2_US[\"Age\"],axis=\"index\").sum()/df2_US[\"US\"].sum())\n",
    "df3_US_avg=round(df3_US[[\"US\"]].multiply(df3_US[\"Age\"],axis=\"index\").sum()/df3_US[\"US\"].sum())\n",
    "df4_US_avg=round(df4_US[[\"US\"]].multiply(df4_US[\"Age\"],axis=\"index\").sum()/df4_US[\"US\"].sum())\n",
    "df5_US_avg=round(df5_US[[\"US\"]].multiply(df5_US[\"Age\"],axis=\"index\").sum()/df5_US[\"US\"].sum())\n",
    "df6_US_avg=round(df6_US[[\"US\"]].multiply(df6_US[\"Age\"],axis=\"index\").sum()/df6_US[\"US\"].sum())\n",
    "df7_US_avg=round(df7_US[[\"US\"]].multiply(df7_US[\"Age\"],axis=\"index\").sum()/df7_US[\"US\"].sum())\n",
    "df8_US_avg=round(df8_US[[\"US\"]].multiply(df8_US[\"Age\"],axis=\"index\").sum()/df8_US[\"US\"].sum())\n",
    "df9_US_avg=round(df9_US[[\"US\"]].multiply(df9_US[\"Age\"],axis=\"index\").sum()/df9_US[\"US\"].sum())\n",
    "df10_US_avg=round(df10_US[[\"US\"]].multiply(df10_US[\"Age\"],axis=\"index\").sum()/df10_US[\"US\"].sum())\n",
    "df11_US_avg=round(df11_US[[\"US\"]].multiply(df11_US[\"Age\"],axis=\"index\").sum()/df11_US[\"US\"].sum())\n",
    "\n"
   ]
  },
  {
   "cell_type": "code",
   "execution_count": 26,
   "metadata": {
    "colab": {
     "base_uri": "https://localhost:8080/",
     "height": 408
    },
    "colab_type": "code",
    "id": "C68p9-l8UlxP",
    "outputId": "963a2343-e2a9-4d84-c960-0f7ce1a94bc0"
   },
   "outputs": [
    {
     "name": "stdout",
     "output_type": "stream",
     "text": [
      "df1_avg= US    76.0\n",
      "dtype: float64 \n",
      "df2_avg= US    76.0\n",
      "dtype: float64 \n",
      "df3_avg= US    77.0\n",
      "dtype: float64 \n",
      "df3_avg= US    77.0\n",
      "dtype: float64 df4_avg= US    77.0\n",
      "dtype: float64 \n",
      "df5_avg= US    77.0\n",
      "dtype: float64 \n",
      " df6_avg= US    77.0\n",
      "dtype: float64 \n",
      " df7_avg= US    77.0\n",
      "dtype: float64 \n",
      " df8_avg= US    77.0\n",
      "dtype: float64 \n",
      " df9_avg= US    77.0\n",
      "dtype: float64 \n",
      " df10_avg= US    77.0\n",
      "dtype: float64 \n",
      " df11_avg= US    76.0\n",
      "dtype: float64\n"
     ]
    }
   ],
   "source": [
    "print( \"df1_avg=\", df1_US_avg, '\\n' \"df2_avg=\",df2_US_avg,'\\n'\"df3_avg=\", df3_US_avg,'\\n'\"df3_avg=\",df3_US_avg, \"df4_avg=\",df4_US_avg,'\\n'\"df5_avg=\",df5_US_avg,'\\n',\n",
    "      \"df6_avg=\",df6_US_avg,'\\n',\"df7_avg=\",df7_US_avg,'\\n',\"df8_avg=\",df8_US_avg,'\\n',\"df9_avg=\", df9_US_avg,'\\n',\"df10_avg=\",df10_US_avg,'\\n',\"df11_avg=\",df11_US_avg)"
   ]
  },
  {
   "cell_type": "code",
   "execution_count": 27,
   "metadata": {
    "colab": {},
    "colab_type": "code",
    "id": "_1oQd_WpMUhp"
   },
   "outputs": [],
   "source": [
    "#Mean of age through these 3 months\n",
    "Mean_may_June_July= np.array([76,76,77,77,77,77,77,77,77,77,76])"
   ]
  },
  {
   "cell_type": "code",
   "execution_count": 28,
   "metadata": {
    "colab": {
     "base_uri": "https://localhost:8080/",
     "height": 34
    },
    "colab_type": "code",
    "id": "r0UYHQaKM8zM",
    "outputId": "5dc4aff1-ba9d-4adf-c85b-e34f553bcd71"
   },
   "outputs": [
    {
     "data": {
      "text/plain": [
       "77.0"
      ]
     },
     "execution_count": 28,
     "metadata": {},
     "output_type": "execute_result"
    }
   ],
   "source": [
    "avg_US= round(np.mean(Mean_may_June_July))\n",
    "avg_US"
   ]
  },
  {
   "cell_type": "code",
   "execution_count": 29,
   "metadata": {
    "colab": {},
    "colab_type": "code",
    "id": "J1HHRMN8aC9W"
   },
   "outputs": [],
   "source": [
    "df1_plot=df1.drop(columns=\"US\")\n",
    "df2_plot=df1.drop(columns=\"US\")\n",
    "df3_plot=df1.drop(columns=\"US\")\n",
    "df4_plot=df1.drop(columns=\"US\")\n",
    "df5_plot=df1.drop(columns=\"US\")\n",
    "df6_plot=df1.drop(columns=\"US\")\n",
    "df7_plot=df1.drop(columns=\"US\")\n",
    "df8_plot=df1.drop(columns=\"US\")\n",
    "df9_plot=df1.drop(columns=\"US\")\n",
    "df10_plot=df1.drop(columns=\"US\")\n",
    "df11_plot=df1.drop(columns=\"US\")\n"
   ]
  },
  {
   "cell_type": "code",
   "execution_count": 30,
   "metadata": {
    "colab": {},
    "colab_type": "code",
    "id": "U_kGiOrs-Rhq"
   },
   "outputs": [],
   "source": [
    "states_abb=[\"AL\",\"AK\",\"AZ\",\"AR\",\"CA\",\"CO\",\"CT\",\"DE\",\"DoC\",\"FL\",\"GA\",\"HI\",\"ID\",\"IL\",\"IN\",\"IA\",\"KS\",\"KY\",\"LA\",\n",
    "                   \"ME\",\"MD\",\"MA\",\"MI\",\"MN\",\"MS\",\"MO\",\"MT\",\"NE\",\"NV\",\"NH\",\"NJ\",\"NM\",\"NY\",\"NYC\",\"NC\",\"ND\",\"OH\",\"OK\",\"OR\",\"PA\",\"PR\",\n",
    "                   \"RI\",\"SC\",\"SD\",\"TN\",\"TX\",\"UT\",\"VT\",\"VA\",\"WA\",\"WV\",\"WI\",\"WY\"]"
   ]
  },
  {
   "cell_type": "code",
   "execution_count": 31,
   "metadata": {
    "colab": {},
    "colab_type": "code",
    "id": "YL40w1fxtx2M"
   },
   "outputs": [],
   "source": [
    "df1_avg=round(df1[states_abb].multiply(df1[\"Age_group\"],axis=\"index\").sum()/df1[states_abb].sum())\n",
    "\n",
    "df2_avg=round(df2[states_abb].multiply(df2[\"Age_group\"],axis=\"index\").sum()/df2[states_abb].sum())\n",
    "\n",
    "df3_avg=round(df3[states_abb].multiply(df3[\"Age_group\"],axis=\"index\").sum()/df3[states_abb].sum())\n",
    "\n",
    "df4_avg=round(df4[states_abb].multiply(df4[\"Age_group\"],axis=\"index\").sum()/df4[states_abb].sum())\n",
    "\n",
    "df5_avg=round(df5[states_abb].multiply(df5[\"Age_group\"],axis=\"index\").sum()/df5[states_abb].sum())\n",
    "\n",
    "df6_avg=round(df6[states_abb].multiply(df6[\"Age_group\"],axis=\"index\").sum()/df6[states_abb].sum())\n",
    "\n",
    "df7_avg=round(df7[states_abb].multiply(df7[\"Age_group\"],axis=\"index\").sum()/df7[states_abb].sum())\n",
    "\n",
    "df8_avg=round(df8[states_abb].multiply(df8[\"Age_group\"],axis=\"index\").sum()/df8[states_abb].sum())\n",
    "\n",
    "df9_avg=round(df9[states_abb].multiply(df9[\"Age_group\"],axis=\"index\").sum()/df9[states_abb].sum())\n",
    "\n",
    "df10_avg=round(df10[states_abb].multiply(df10[\"Age_group\"],axis=\"index\").sum()/df10[states_abb].sum())\n",
    "\n",
    "df11_avg=round(df11[states_abb].multiply(df11[\"Age_group\"],axis=\"index\").sum()/df11[states_abb].sum())"
   ]
  },
  {
   "cell_type": "code",
   "execution_count": 32,
   "metadata": {
    "colab": {},
    "colab_type": "code",
    "id": "HgiLJdN6BItQ"
   },
   "outputs": [],
   "source": [
    "df1_avg=df1_avg.to_numpy()\n",
    "df2_avg=df2_avg.to_numpy()\n",
    "df3_avg=df3_avg.to_numpy()\n",
    "df4_avg=df4_avg.to_numpy()\n",
    "df5_avg=df5_avg.to_numpy()\n",
    "df6_avg=df6_avg.to_numpy()\n",
    "df7_avg=df7_avg.to_numpy()\n",
    "df8_avg=df8_avg.to_numpy()\n",
    "df9_avg=df9_avg.to_numpy()\n",
    "df10_avg=df10_avg.to_numpy()\n",
    "df11_avg=df11_avg.to_numpy()"
   ]
  },
  {
   "cell_type": "code",
   "execution_count": 33,
   "metadata": {
    "colab": {},
    "colab_type": "code",
    "id": "TXqNfzuKHHx-"
   },
   "outputs": [],
   "source": [
    "df_5_6_2020_avg = df1_avg[~np.isnan(df1_avg)]\n",
    "df_5_13_2020_avg = df2_avg[~np.isnan(df2_avg)]\n",
    "df_5_28_2020_avg = df3_avg[~np.isnan(df3_avg)]\n",
    "df_6_3_2020_avg = df4_avg[~np.isnan(df4_avg)]\n",
    "df_6_10_2020_avg = df5_avg[~np.isnan(df5_avg)]\n",
    "df_6_17_2020_avg = df6_avg[~np.isnan(df6_avg)]\n",
    "df_6_24_2020_avg = df7_avg[~np.isnan(df7_avg)]\n",
    "df_7_1_2020_avg = df8_avg[~np.isnan(df8_avg)]\n",
    "df_7_8_2020_avg = df9_avg[~np.isnan(df9_avg)]\n",
    "df_7_22_2020_avg = df10_avg[~np.isnan(df10_avg)]\n",
    "df_7_29_2020_avg = df11_avg[~np.isnan(df11_avg)]\n"
   ]
  },
  {
   "cell_type": "code",
   "execution_count": 34,
   "metadata": {
    "colab": {
     "base_uri": "https://localhost:8080/",
     "height": 301
    },
    "colab_type": "code",
    "id": "oLN-LkYJ0ARW",
    "outputId": "1f0f72ff-2592-4a9f-fe01-b2e642608d6d"
   },
   "outputs": [
    {
     "data": {
      "image/png": "[encoded data removed]",
      "text/plain": [
       "<Figure size 432x288 with 1 Axes>"
      ]
     },
     "metadata": {
      "needs_background": "light"
     },
     "output_type": "display_data"
    }
   ],
   "source": [
    "plt.hist(df_5_6_2020_avg, bins = 20)\n",
    "plt.xlim(0,100)\n",
    "plt.xlabel(\"Age\")\n",
    "plt.ylabel(\"Counts for COVID deaths\")\n",
    "plt.title('Average Age for the week of 5_6_2020')\n",
    "plt.axvline(76.0, color='red', linestyle='dashed', linewidth=2)\n",
    "plt.show()"
   ]
  },
  {
   "cell_type": "code",
   "execution_count": 35,
   "metadata": {
    "colab": {
     "base_uri": "https://localhost:8080/",
     "height": 899
    },
    "colab_type": "code",
    "id": "4idy-9VCalfi",
    "outputId": "454e9016-1be6-4611-adef-9f6d99338e6c"
   },
   "outputs": [
    {
     "data": {
      "text/plain": [
       "Text(0.5, 1.0, '7_29_2020')"
      ]
     },
     "execution_count": 35,
     "metadata": {},
     "output_type": "execute_result"
    },
    {
     "data": {
      "image/png": "[encoded data removed]",
      "text/plain": [
       "<Figure size 1080x1080 with 12 Axes>"
      ]
     },
     "metadata": {
      "needs_background": "light"
     },
     "output_type": "display_data"
    }
   ],
   "source": [
    "n_bins = 10\n",
    "\n",
    "fig, ((ax0, ax1,ax2,ax3), (ax4, ax5,ax6,ax7),(ax8, ax9,ax10,ax11)) = plt.subplots(nrows=3, ncols=4,figsize=(15,15),sharex=True)\n",
    "plt.xlim(0,100)\n",
    "plt.ylim(0,15)\n",
    "plt.title(\"COVID deaths average for different age group through 3 months\")\n",
    "\n",
    "ax0.hist(df_5_6_2020_avg, n_bins)\n",
    "ax0.axvline(76.0, color='red', linestyle='dashed', linewidth=2)\n",
    "ax0.set_title('5_6_2020')\n",
    "\n",
    "ax1.hist(df_5_13_2020_avg, n_bins, density=True, histtype='bar')\n",
    "ax1.axvline(76.0, color='red', linestyle='dashed', linewidth=2)\n",
    "ax1.set_title('5_13_2020')\n",
    "\n",
    "ax2.hist(df_5_28_2020_avg, n_bins, density=True, histtype='bar')\n",
    "ax2.axvline(77.0, color='red', linestyle='dashed', linewidth=2)\n",
    "ax2.set_title('5_28_2020')\n",
    "\n",
    "#ax3.hist(df1_5_6_2020_median, n_bins, density=True, histtype='bar')\n",
    "ax3.set_title('no data')\n",
    "\n",
    "ax4.hist(df_6_3_2020_avg, n_bins)\n",
    "ax4.axvline(77.0, color='red', linestyle='dashed', linewidth=2)\n",
    "ax4.set_title('6_3_2020')\n",
    "\n",
    "ax5.hist(df_6_10_2020_avg, n_bins)\n",
    "ax5.axvline(77.0, color='red', linestyle='dashed', linewidth=2)\n",
    "ax5.set_title('6_10_2020')\n",
    "\n",
    "ax6.hist(df_6_17_2020_avg, n_bins)\n",
    "ax6.axvline(77.0, color='red', linestyle='dashed', linewidth=2)\n",
    "ax6.set_title('6_17_2020')\n",
    "\n",
    "ax7.hist(df_6_24_2020_avg, n_bins)\n",
    "ax7.axvline(77.0, color='red', linestyle='dashed', linewidth=2)\n",
    "ax7.set_title('6_24_2020')\n",
    "\n",
    "ax8.hist(df_7_1_2020_avg, n_bins)\n",
    "ax8.axvline(77.0, color='red', linestyle='dashed', linewidth=2)\n",
    "ax8.set_title('7_1_2020')\n",
    "\n",
    "ax9.hist(df_7_8_2020_avg, n_bins)\n",
    "ax9.axvline(77.0, color='red', linestyle='dashed', linewidth=2)\n",
    "ax9.set_title('7_8_2020')\n",
    "\n",
    "ax10.hist(df_7_22_2020_avg, n_bins)\n",
    "ax10.axvline(77.0, color='red', linestyle='dashed', linewidth=2)\n",
    "ax10.set_title('7_22_2020')\n",
    "\n",
    "ax11.hist(df_7_29_2020_avg, n_bins)\n",
    "ax11.axvline(76.0, color='red', linestyle='dashed', linewidth=2)\n",
    "ax11.set_title('7_29_2020')"
   ]
  },
  {
   "cell_type": "code",
   "execution_count": 36,
   "metadata": {
    "colab": {},
    "colab_type": "code",
    "id": "f5U2_0WMefj3"
   },
   "outputs": [],
   "source": [
    "# Will now check how the average deaths values has been changed through time \n",
    "# lets check the variability with every week "
   ]
  },
  {
   "cell_type": "code",
   "execution_count": 37,
   "metadata": {
    "colab": {},
    "colab_type": "code",
    "id": "uRE6AHVkvxd2"
   },
   "outputs": [],
   "source": [
    "#Let Two sample independent t test \n",
    "#H0= the average death is same through two weeks \n",
    "#Ha= the average death have changed through two weeks "
   ]
  },
  {
   "cell_type": "code",
   "execution_count": 38,
   "metadata": {
    "colab": {
     "base_uri": "https://localhost:8080/",
     "height": 34
    },
    "colab_type": "code",
    "id": "PhqxkFlxvznF",
    "outputId": "bf58a99a-b1cb-49fb-a9d3-f545fa7904f4"
   },
   "outputs": [
    {
     "data": {
      "text/plain": [
       "Ttest_indResult(statistic=0.0, pvalue=1.0)"
      ]
     },
     "execution_count": 38,
     "metadata": {},
     "output_type": "execute_result"
    }
   ],
   "source": [
    "stats.ttest_ind(df_5_6_2020_avg,df_5_13_2020_avg, equal_var = False)"
   ]
  },
  {
   "cell_type": "code",
   "execution_count": 39,
   "metadata": {
    "colab": {},
    "colab_type": "code",
    "id": "ojz-yn6n1UhG"
   },
   "outputs": [],
   "source": [
    "# The t test fails to give a conclusion as t value is zero"
   ]
  },
  {
   "cell_type": "code",
   "execution_count": 40,
   "metadata": {
    "colab": {
     "base_uri": "https://localhost:8080/",
     "height": 34
    },
    "colab_type": "code",
    "id": "ocHPRSN7v1tS",
    "outputId": "c492b4f6-58af-421e-87fc-201f2ef83e93"
   },
   "outputs": [
    {
     "data": {
      "text/plain": [
       "Ttest_indResult(statistic=0.4451811037535436, pvalue=0.6575270842263122)"
      ]
     },
     "execution_count": 40,
     "metadata": {},
     "output_type": "execute_result"
    }
   ],
   "source": [
    "stats.ttest_ind(df_5_6_2020_avg,df_5_28_2020_avg, equal_var = False)"
   ]
  },
  {
   "cell_type": "code",
   "execution_count": 41,
   "metadata": {
    "colab": {
     "base_uri": "https://localhost:8080/",
     "height": 34
    },
    "colab_type": "code",
    "id": "ChDguXnW0vuJ",
    "outputId": "c8ae4659-70a7-455e-885a-903ae125a259"
   },
   "outputs": [
    {
     "data": {
      "text/plain": [
       "Ttest_indResult(statistic=0.5763833693362548, pvalue=0.5660941928892513)"
      ]
     },
     "execution_count": 41,
     "metadata": {},
     "output_type": "execute_result"
    }
   ],
   "source": [
    "stats.ttest_ind(df_5_6_2020_avg,df_6_3_2020_avg, equal_var = False)"
   ]
  },
  {
   "cell_type": "code",
   "execution_count": 42,
   "metadata": {
    "colab": {
     "base_uri": "https://localhost:8080/",
     "height": 34
    },
    "colab_type": "code",
    "id": "xh1OelcY00B3",
    "outputId": "65f9210b-b677-4170-a61f-54cb262b1add"
   },
   "outputs": [
    {
     "data": {
      "text/plain": [
       "Ttest_indResult(statistic=0.37667916541002333, pvalue=0.7074109975482787)"
      ]
     },
     "execution_count": 42,
     "metadata": {},
     "output_type": "execute_result"
    }
   ],
   "source": [
    "stats.ttest_ind(df_5_6_2020_avg,df_6_10_2020_avg, equal_var = False)"
   ]
  },
  {
   "cell_type": "code",
   "execution_count": 43,
   "metadata": {
    "colab": {
     "base_uri": "https://localhost:8080/",
     "height": 34
    },
    "colab_type": "code",
    "id": "nkrr_k_n03P1",
    "outputId": "31db0257-8f31-49cc-b440-2511fbf98f54"
   },
   "outputs": [
    {
     "data": {
      "text/plain": [
       "Ttest_indResult(statistic=0.7879952021429463, pvalue=0.4332637918223452)"
      ]
     },
     "execution_count": 43,
     "metadata": {},
     "output_type": "execute_result"
    }
   ],
   "source": [
    "stats.ttest_ind(df_5_6_2020_avg,df_6_17_2020_avg, equal_var = False)"
   ]
  },
  {
   "cell_type": "code",
   "execution_count": 44,
   "metadata": {
    "colab": {
     "base_uri": "https://localhost:8080/",
     "height": 34
    },
    "colab_type": "code",
    "id": "5E70FGFI08JH",
    "outputId": "d4641024-03e1-46fd-dfb6-8bd6e7c88691"
   },
   "outputs": [
    {
     "data": {
      "text/plain": [
       "Ttest_indResult(statistic=0.8935257889917665, pvalue=0.3744645039250296)"
      ]
     },
     "execution_count": 44,
     "metadata": {},
     "output_type": "execute_result"
    }
   ],
   "source": [
    "stats.ttest_ind(df_5_6_2020_avg,df_6_24_2020_avg, equal_var = False)"
   ]
  },
  {
   "cell_type": "code",
   "execution_count": 45,
   "metadata": {
    "colab": {
     "base_uri": "https://localhost:8080/",
     "height": 34
    },
    "colab_type": "code",
    "id": "tEcicoHT0_hi",
    "outputId": "d04b8635-f81a-4d13-b17c-af93c4964d2c"
   },
   "outputs": [
    {
     "data": {
      "text/plain": [
       "Ttest_indResult(statistic=1.1577736755021515, pvalue=0.250616234712623)"
      ]
     },
     "execution_count": 45,
     "metadata": {},
     "output_type": "execute_result"
    }
   ],
   "source": [
    "stats.ttest_ind(df_5_6_2020_avg,df_7_1_2020_avg, equal_var = False)"
   ]
  },
  {
   "cell_type": "code",
   "execution_count": 46,
   "metadata": {
    "colab": {
     "base_uri": "https://localhost:8080/",
     "height": 34
    },
    "colab_type": "code",
    "id": "_QSUpIDA1CHJ",
    "outputId": "6b672a60-1f12-44f8-e0ac-208153f545c6"
   },
   "outputs": [
    {
     "data": {
      "text/plain": [
       "Ttest_indResult(statistic=1.1577736755021515, pvalue=0.250616234712623)"
      ]
     },
     "execution_count": 46,
     "metadata": {},
     "output_type": "execute_result"
    }
   ],
   "source": [
    "stats.ttest_ind(df_5_6_2020_avg,df_7_8_2020_avg, equal_var = False)"
   ]
  },
  {
   "cell_type": "code",
   "execution_count": 47,
   "metadata": {
    "colab": {
     "base_uri": "https://localhost:8080/",
     "height": 34
    },
    "colab_type": "code",
    "id": "Jxj510fH1Fxo",
    "outputId": "486ca18e-bdcf-4778-8afa-d987d6eab5ab"
   },
   "outputs": [
    {
     "data": {
      "text/plain": [
       "Ttest_indResult(statistic=1.9132322511594335, pvalue=0.05897261135734605)"
      ]
     },
     "execution_count": 47,
     "metadata": {},
     "output_type": "execute_result"
    }
   ],
   "source": [
    "stats.ttest_ind(df_5_6_2020_avg,df_7_22_2020_avg, equal_var = False)"
   ]
  },
  {
   "cell_type": "code",
   "execution_count": 48,
   "metadata": {
    "colab": {
     "base_uri": "https://localhost:8080/",
     "height": 34
    },
    "colab_type": "code",
    "id": "npArVE-41KH0",
    "outputId": "b93c609c-876c-44fe-8d5b-0758bf438df8"
   },
   "outputs": [
    {
     "data": {
      "text/plain": [
       "Ttest_indResult(statistic=2.02892592690863, pvalue=0.0454902826086472)"
      ]
     },
     "execution_count": 48,
     "metadata": {},
     "output_type": "execute_result"
    }
   ],
   "source": [
    "stats.ttest_ind(df_5_6_2020_avg,df_7_29_2020_avg, equal_var = False)"
   ]
  },
  {
   "cell_type": "code",
   "execution_count": 49,
   "metadata": {
    "colab": {},
    "colab_type": "code",
    "id": "6mEabd_F1Nnb"
   },
   "outputs": [],
   "source": [
    "# Here we did the t test for the week of 5_6_2020 to all the later weeks\n",
    "# The results shows that for the immediate next week i.e 5_13_2020 the t test failed\n",
    "# The following weeks of 5_28_2020, 6_3_2020, 6_10_2020, 6_17_2020, 6_24_2020, 7_1_2020, 7_8_2020 and 7_22_2020 the average deaths for different age groups did \n",
    "# changed as the p value is greater that 5% and we regect the null hypothesis\n",
    "# when we compare for the week 7_29_2020 we see that we have to accept the null hypothesis as the p value is less than 5%\n",
    "\n",
    "# We can say that in the week of 5_6_2020 and week of 7_29_2020 were similar as the death rates were in the beginning of the curve and dropping of the curve \n",
    "# respectively\n",
    "\n",
    "# Also the average death rates is higher in the month of June as compared to May  and July as can be seen from the graphs\n",
    "\n"
   ]
  },
  {
   "cell_type": "code",
   "execution_count": 50,
   "metadata": {
    "colab": {},
    "colab_type": "code",
    "id": "t9_nDaG2Az7b"
   },
   "outputs": [],
   "source": [
    "# Lets check what are the outliers in the plot for 7_22_2020 and 7_29_2020"
   ]
  },
  {
   "cell_type": "code",
   "execution_count": 51,
   "metadata": {
    "colab": {},
    "colab_type": "code",
    "id": "wAc6TJ_e83b_"
   },
   "outputs": [],
   "source": [
    "df_min=pd.DataFrame({\"state\":states_abb,\"death\":df10_avg})"
   ]
  },
  {
   "cell_type": "code",
   "execution_count": 52,
   "metadata": {
    "colab": {
     "base_uri": "https://localhost:8080/",
     "height": 51
    },
    "colab_type": "code",
    "id": "xwYBTtVEAsjJ",
    "outputId": "e29555b1-e01e-4395-d99b-28d7478154ca"
   },
   "outputs": [
    {
     "name": "stdout",
     "output_type": "stream",
     "text": [
      "   state  death\n",
      "40    PR   50.0\n"
     ]
    }
   ],
   "source": [
    "print(df_min[df_min.death == df_min.death.min()])"
   ]
  },
  {
   "cell_type": "code",
   "execution_count": 53,
   "metadata": {
    "colab": {},
    "colab_type": "code",
    "id": "CEw2kwMaA9Hg"
   },
   "outputs": [],
   "source": [
    "df_min=pd.DataFrame({\"state\":states_abb,\"death\":df11_avg})"
   ]
  },
  {
   "cell_type": "code",
   "execution_count": 54,
   "metadata": {
    "colab": {
     "base_uri": "https://localhost:8080/",
     "height": 51
    },
    "colab_type": "code",
    "id": "PQRZTFKzA_Zx",
    "outputId": "9c59c1fc-dfa6-49ce-cf21-e128432d5057"
   },
   "outputs": [
    {
     "name": "stdout",
     "output_type": "stream",
     "text": [
      "   state  death\n",
      "40    PR   50.0\n"
     ]
    }
   ],
   "source": [
    "print(df_min[df_min.death == df_min.death.min()])"
   ]
  },
  {
   "cell_type": "code",
   "execution_count": 55,
   "metadata": {
    "colab": {},
    "colab_type": "code",
    "id": "BdIOAiZeBAvY"
   },
   "outputs": [],
   "source": [
    "# The outliers in the plot for week 7_22_2020 and 7_9_2020 both belongs to Puerto Rico"
   ]
  },
  {
   "cell_type": "code",
   "execution_count": 56,
   "metadata": {
    "colab": {
     "base_uri": "https://localhost:8080/",
     "height": 34
    },
    "colab_type": "code",
    "id": "Y5U83-GY701t",
    "outputId": "ac47a54a-86aa-4eb2-d5af-b54a7a414d9f"
   },
   "outputs": [
    {
     "data": {
      "text/plain": [
       "53"
      ]
     },
     "execution_count": 56,
     "metadata": {},
     "output_type": "execute_result"
    }
   ],
   "source": [
    "len(df1_avg)"
   ]
  },
  {
   "cell_type": "code",
   "execution_count": 57,
   "metadata": {
    "colab": {},
    "colab_type": "code",
    "id": "5fkOhmrmBQbv"
   },
   "outputs": [],
   "source": [
    "#interactive plotting"
   ]
  },
  {
   "cell_type": "code",
   "execution_count": 58,
   "metadata": {
    "colab": {},
    "colab_type": "code",
    "id": "eYQbuhcex7Sp"
   },
   "outputs": [],
   "source": [
    "df_interact=pd.DataFrame({\"5_6_2020\": df1_avg, \"5_13_2020\": df2_avg ,\"5_28_2020\": df3_avg ,\n",
    "                          \"6_3_2020\": df4_avg ,\"6_10_2020\": df5_avg ,\"6_17_2020\":df6_avg,\"6_24_2020\":df7_avg,\n",
    "                          \"7_1_2020\":df8_avg,\"7_8_2020\":df9_avg,\"7_22_2020\":df10_avg,\"7_29_2020\":df11_avg})"
   ]
  },
  {
   "cell_type": "code",
   "execution_count": 59,
   "metadata": {
    "colab": {},
    "colab_type": "code",
    "id": "6ONy9johx9pE"
   },
   "outputs": [],
   "source": [
    "def plotyear(date):\n",
    "    df_interact[date].plot.hist(bins=20)\n",
    "    plt.axis(ymin=0,ymax=15,xmin=0,xmax=100)\n",
    "    plt.xlabel('Age')\n",
    "    plt.ylabel('Covid')"
   ]
  },
  {
   "cell_type": "code",
   "execution_count": 60,
   "metadata": {
    "colab": {
     "base_uri": "https://localhost:8080/",
     "height": 334,
     "referenced_widgets": [
      "dd443e2f0bff43f0a068227f1e7c30f7",
      "6abe7cc749d043129a34420b5ef5ee13",
      "00a26c29a4ea4ee0aa182e316545c67e",
      "6f63b75a58eb4fa990da4108621de284",
      "e09502aa46e44c3da72716e40103c325",
      "e86d4c326f8b4e93be08710be91cc102",
      "295f7d68966442c4ac3c506d064de29c"
     ]
    },
    "colab_type": "code",
    "id": "R_UJlS1o1ZHO",
    "outputId": "37781821-c636-4017-8e32-7e1277d33a41"
   },
   "outputs": [
    {
     "data": {
      "application/vnd.jupyter.widget-view+json": {
       "model_id": "80b0bfc85fa0453d85cbba644048e492",
       "version_major": 2,
       "version_minor": 0
      },
      "text/plain": [
       "interactive(children=(Dropdown(description='date', options=('5_6_2020', '5_13_2020', '6_3_2020', '6_10_2020', …"
      ]
     },
     "metadata": {},
     "output_type": "display_data"
    },
    {
     "data": {
      "text/plain": [
       "<function __main__.plotyear(date)>"
      ]
     },
     "execution_count": 60,
     "metadata": {},
     "output_type": "execute_result"
    }
   ],
   "source": [
    "interact(plotyear,date=['5_6_2020','5_13_2020','6_3_2020','6_10_2020','6_17_2020','6_24_2020','7_1_2020','7_8_2020',\n",
    "                        '7_22_2020','7_29_2020'])"
   ]
  },
  {
   "cell_type": "code",
   "execution_count": 61,
   "metadata": {
    "colab": {},
    "colab_type": "code",
    "id": "ZLvI9s0iEs-2"
   },
   "outputs": [],
   "source": [
    "df1_avg_=np.nan_to_num(df1_avg)\n",
    "df2_avg_=np.nan_to_num(df2_avg)\n",
    "df3_avg_=np.nan_to_num(df3_avg)\n",
    "df4_avg_=np.nan_to_num(df4_avg)\n",
    "df5_avg_=np.nan_to_num(df5_avg)\n",
    "df6_avg_=np.nan_to_num(df6_avg)\n",
    "df7_avg_=np.nan_to_num(df7_avg)\n",
    "df8_avg_=np.nan_to_num(df8_avg)\n",
    "df9_avg_=np.nan_to_num(df9_avg)\n",
    "df10_avg_=np.nan_to_num(df10_avg)\n",
    "df11_avg_=np.nan_to_num(df11_avg)\n"
   ]
  },
  {
   "cell_type": "code",
   "execution_count": 62,
   "metadata": {
    "colab": {},
    "colab_type": "code",
    "id": "bXRgD1cRFtDA"
   },
   "outputs": [],
   "source": [
    "data1=abs(df1_avg_- df2_avg_)\n",
    "data2=abs(df1_avg_- df3_avg_)\n",
    "data3=abs(df1_avg_- df4_avg_)\n",
    "data4=abs(df1_avg_- df5_avg_)\n",
    "data5=abs(df1_avg_- df6_avg_)\n",
    "data6=abs(df1_avg_- df7_avg_)\n",
    "data7=abs(df1_avg_- df8_avg_)\n",
    "data8=abs(df1_avg_- df9_avg_)\n",
    "data9=abs(df1_avg_- df10_avg_)\n",
    "data10=abs(df1_avg_- df11_avg_)\n"
   ]
  },
  {
   "cell_type": "code",
   "execution_count": 63,
   "metadata": {
    "colab": {},
    "colab_type": "code",
    "id": "Yj-icLKK1cjb"
   },
   "outputs": [],
   "source": [
    "def mean_confidence_interval(data, confidence=0.95):\n",
    "    a = 1.0 * np.array(data)\n",
    "    n = len(a)\n",
    "    m, se = np.mean(a), scipy.stats.sem(a)\n",
    "    h = se * scipy.stats.t.ppf((1 + confidence) / 2., n-1)\n",
    "    return m, m-h, m+h"
   ]
  },
  {
   "cell_type": "code",
   "execution_count": 64,
   "metadata": {
    "colab": {
     "base_uri": "https://localhost:8080/",
     "height": 34
    },
    "colab_type": "code",
    "id": "Zo5O0OO_9YoO",
    "outputId": "26fbea7c-8e2e-4de7-e709-ec90001b9c6a"
   },
   "outputs": [
    {
     "data": {
      "text/plain": [
       "(0.7547169811320755, 0.3924765913635731, 1.116957370900578)"
      ]
     },
     "execution_count": 64,
     "metadata": {},
     "output_type": "execute_result"
    }
   ],
   "source": [
    "mean_confidence_interval(data1,confidence=0.95)\n"
   ]
  },
  {
   "cell_type": "code",
   "execution_count": 65,
   "metadata": {
    "colab": {
     "base_uri": "https://localhost:8080/",
     "height": 34
    },
    "colab_type": "code",
    "id": "LEWdBalNEpm6",
    "outputId": "7108aaee-daf3-49fe-b545-6e3c528c262e"
   },
   "outputs": [
    {
     "data": {
      "text/plain": [
       "(7.490566037735849, 1.6291022333137333, 13.352029842157965)"
      ]
     },
     "execution_count": 65,
     "metadata": {},
     "output_type": "execute_result"
    }
   ],
   "source": [
    "mean_confidence_interval(data2,confidence=0.95)"
   ]
  },
  {
   "cell_type": "code",
   "execution_count": 66,
   "metadata": {
    "colab": {
     "base_uri": "https://localhost:8080/",
     "height": 34
    },
    "colab_type": "code",
    "id": "BonKWcbsLrpv",
    "outputId": "9ce595fe-c9ef-4e1b-f688-2612682c6cc0"
   },
   "outputs": [
    {
     "data": {
      "text/plain": [
       "(9.056603773584905, 2.444385549420547, 15.668821997749264)"
      ]
     },
     "execution_count": 66,
     "metadata": {},
     "output_type": "execute_result"
    }
   ],
   "source": [
    "mean_confidence_interval(data3,confidence=0.95)"
   ]
  },
  {
   "cell_type": "code",
   "execution_count": 67,
   "metadata": {
    "colab": {
     "base_uri": "https://localhost:8080/",
     "height": 34
    },
    "colab_type": "code",
    "id": "gZz4gDjEL823",
    "outputId": "2b08fe6b-6c00-48a7-b1e4-5aa12dfc6639"
   },
   "outputs": [
    {
     "data": {
      "text/plain": [
       "(10.849056603773585, 3.5875031282572554, 18.110610079289913)"
      ]
     },
     "execution_count": 67,
     "metadata": {},
     "output_type": "execute_result"
    }
   ],
   "source": [
    "mean_confidence_interval(data4,confidence=0.95)"
   ]
  },
  {
   "cell_type": "code",
   "execution_count": 68,
   "metadata": {
    "colab": {
     "base_uri": "https://localhost:8080/",
     "height": 34
    },
    "colab_type": "code",
    "id": "AcNejnrpL-4A",
    "outputId": "df97c646-581d-4f8e-dd3d-cc5f1b9e39bd"
   },
   "outputs": [
    {
     "data": {
      "text/plain": [
       "(10.754716981132075, 3.6733609402718166, 17.836073021992334)"
      ]
     },
     "execution_count": 68,
     "metadata": {},
     "output_type": "execute_result"
    }
   ],
   "source": [
    "mean_confidence_interval(data5,confidence=0.95)"
   ]
  },
  {
   "cell_type": "code",
   "execution_count": 69,
   "metadata": {
    "colab": {
     "base_uri": "https://localhost:8080/",
     "height": 34
    },
    "colab_type": "code",
    "id": "NOq08M83MA4g",
    "outputId": "d7cabda9-34ac-4c63-90d7-3a1f1b06d419"
   },
   "outputs": [
    {
     "data": {
      "text/plain": [
       "(10.849056603773585, 3.7227636609048247, 17.975349546642345)"
      ]
     },
     "execution_count": 69,
     "metadata": {},
     "output_type": "execute_result"
    }
   ],
   "source": [
    "mean_confidence_interval(data6,confidence=0.95)"
   ]
  },
  {
   "cell_type": "code",
   "execution_count": 70,
   "metadata": {
    "colab": {
     "base_uri": "https://localhost:8080/",
     "height": 34
    },
    "colab_type": "code",
    "id": "YO-oj2P5MCyl",
    "outputId": "b521fd86-de3b-400d-cf93-1beedb358137"
   },
   "outputs": [
    {
     "data": {
      "text/plain": [
       "(10.88679245283019, 3.788794465878543, 17.984790439781836)"
      ]
     },
     "execution_count": 70,
     "metadata": {},
     "output_type": "execute_result"
    }
   ],
   "source": [
    "mean_confidence_interval(data7,confidence=0.95)"
   ]
  },
  {
   "cell_type": "code",
   "execution_count": 71,
   "metadata": {
    "colab": {
     "base_uri": "https://localhost:8080/",
     "height": 34
    },
    "colab_type": "code",
    "id": "RXZwhRdFMEj4",
    "outputId": "5abe5302-827f-4db2-b96d-80720600e3df"
   },
   "outputs": [
    {
     "data": {
      "text/plain": [
       "(10.88679245283019, 3.788794465878543, 17.984790439781836)"
      ]
     },
     "execution_count": 71,
     "metadata": {},
     "output_type": "execute_result"
    }
   ],
   "source": [
    "mean_confidence_interval(data8,confidence=0.95)"
   ]
  },
  {
   "cell_type": "code",
   "execution_count": 72,
   "metadata": {
    "colab": {
     "base_uri": "https://localhost:8080/",
     "height": 34
    },
    "colab_type": "code",
    "id": "f_3o-Cn7MGcy",
    "outputId": "4e7fde6b-4581-4e65-d341-ba94cd1c50dd"
   },
   "outputs": [
    {
     "data": {
      "text/plain": [
       "(11.641509433962264, 4.6372864532841875, 18.645732414640342)"
      ]
     },
     "execution_count": 72,
     "metadata": {},
     "output_type": "execute_result"
    }
   ],
   "source": [
    "mean_confidence_interval(data9,confidence=0.95)"
   ]
  },
  {
   "cell_type": "code",
   "execution_count": 73,
   "metadata": {
    "colab": {
     "base_uri": "https://localhost:8080/",
     "height": 34
    },
    "colab_type": "code",
    "id": "Jkkt7P6dMIim",
    "outputId": "ac38e880-ccfe-4f4f-c45b-1f628e8d4773"
   },
   "outputs": [
    {
     "data": {
      "text/plain": [
       "(11.641509433962264, 4.668017249022235, 18.615001618902294)"
      ]
     },
     "execution_count": 73,
     "metadata": {},
     "output_type": "execute_result"
    }
   ],
   "source": [
    "mean_confidence_interval(data10,confidence=0.95)"
   ]
  },
  {
   "cell_type": "code",
   "execution_count": 74,
   "metadata": {
    "colab": {},
    "colab_type": "code",
    "id": "5swWwPrIMKME"
   },
   "outputs": [],
   "source": [
    "#The variation in the average value through May to July has ranged from 0.7 years to 10 years. So we can say although the report of COVID infections has been \n",
    "#reported fo rthe young age the deaths average value remain around 77 years \n",
    "\n",
    "# we could do the analysis by removing Puerto Rico value"
   ]
  },
  {
   "cell_type": "code",
   "execution_count": 75,
   "metadata": {
    "colab": {},
    "colab_type": "code",
    "id": "SUFvMe1nNWQo"
   },
   "outputs": [],
   "source": [
    "df10_avg_no_PR=np.delete(df10_avg_,40)\n",
    "df11_avg_no_PR=np.delete(df11_avg_,40)"
   ]
  },
  {
   "cell_type": "code",
   "execution_count": 76,
   "metadata": {
    "colab": {},
    "colab_type": "code",
    "id": "eOZXf5gRRAq1"
   },
   "outputs": [],
   "source": [
    "df1_avg_no_PR=np.delete(df1_avg_,40)"
   ]
  },
  {
   "cell_type": "code",
   "execution_count": 77,
   "metadata": {
    "colab": {},
    "colab_type": "code",
    "id": "nh3R-8t2NbcC"
   },
   "outputs": [],
   "source": [
    "data9_no_PR=abs(df1_avg_no_PR - df10_avg_no_PR)\n",
    "data10_no_PR=abs(df1_avg_no_PR - df11_avg_no_PR)"
   ]
  },
  {
   "cell_type": "code",
   "execution_count": 78,
   "metadata": {
    "colab": {
     "base_uri": "https://localhost:8080/",
     "height": 34
    },
    "colab_type": "code",
    "id": "9TWRATIDNgjm",
    "outputId": "6a9f3d4a-3a02-413a-d7cc-03dfae2c2328"
   },
   "outputs": [
    {
     "data": {
      "text/plain": [
       "(10.903846153846153, 3.921617417206173, 17.886074890486135)"
      ]
     },
     "execution_count": 78,
     "metadata": {},
     "output_type": "execute_result"
    }
   ],
   "source": [
    "mean_confidence_interval(data9_no_PR,confidence=0.95)"
   ]
  },
  {
   "cell_type": "code",
   "execution_count": 79,
   "metadata": {
    "colab": {
     "base_uri": "https://localhost:8080/",
     "height": 34
    },
    "colab_type": "code",
    "id": "vrC3H1mkQ5fl",
    "outputId": "243d9c02-ae83-4f3f-f478-71c3350f585f"
   },
   "outputs": [
    {
     "data": {
      "text/plain": [
       "(10.903846153846153, 3.953687169845618, 17.854005137846688)"
      ]
     },
     "execution_count": 79,
     "metadata": {},
     "output_type": "execute_result"
    }
   ],
   "source": [
    "mean_confidence_interval(data10_no_PR,confidence=0.95)"
   ]
  },
  {
   "cell_type": "code",
   "execution_count": 80,
   "metadata": {
    "colab": {},
    "colab_type": "code",
    "id": "SwAB0qL2SQP6"
   },
   "outputs": [],
   "source": [
    "#This confirms the above hypothesis and with 95% confidence we can that the significance of a shift over time,\n",
    "# for age magnitude lies between 0.7 years to 10 years ."
   ]
  }
 ],
 "metadata": {
  "colab": {
   "collapsed_sections": [],
   "name": "Covid_May_July.ipynb",
   "provenance": []
  },
  "kernelspec": {
   "display_name": "Python 3",
   "language": "python",
   "name": "python3"
  },
  "language_info": {
   "codemirror_mode": {
    "name": "ipython",
    "version": 3
   },
   "file_extension": ".py",
   "mimetype": "text/x-python",
   "name": "python",
   "nbconvert_exporter": "python",
   "pygments_lexer": "ipython3",
   "version": "3.7.6"
  },
  "widgets": {
   "application/vnd.jupyter.widget-state+json": {
    "00a26c29a4ea4ee0aa182e316545c67e": {
     "model_module": "@jupyter-widgets/controls",
     "model_name": "DropdownModel",
     "state": {
      "_dom_classes": [],
      "_model_module": "@jupyter-widgets/controls",
      "_model_module_version": "1.5.0",
      "_model_name": "DropdownModel",
      "_options_labels": [
       "5_6_2020",
       "5_13_2020",
       "6_3_2020",
       "6_10_2020",
       "6_17_2020",
       "6_24_2020",
       "7_1_2020",
       "7_8_2020",
       "7_22_2020",
       "7_29_2020"
      ],
      "_view_count": null,
      "_view_module": "@jupyter-widgets/controls",
      "_view_module_version": "1.5.0",
      "_view_name": "DropdownView",
      "description": "date",
      "description_tooltip": null,
      "disabled": false,
      "index": 0,
      "layout": "IPY_MODEL_e86d4c326f8b4e93be08710be91cc102",
      "style": "IPY_MODEL_e09502aa46e44c3da72716e40103c325"
     }
    },
    "295f7d68966442c4ac3c506d064de29c": {
     "model_module": "@jupyter-widgets/base",
     "model_name": "LayoutModel",
     "state": {
      "_model_module": "@jupyter-widgets/base",
      "_model_module_version": "1.2.0",
      "_model_name": "LayoutModel",
      "_view_count": null,
      "_view_module": "@jupyter-widgets/base",
      "_view_module_version": "1.2.0",
      "_view_name": "LayoutView",
      "align_content": null,
      "align_items": null,
      "align_self": null,
      "border": null,
      "bottom": null,
      "display": null,
      "flex": null,
      "flex_flow": null,
      "grid_area": null,
      "grid_auto_columns": null,
      "grid_auto_flow": null,
      "grid_auto_rows": null,
      "grid_column": null,
      "grid_gap": null,
      "grid_row": null,
      "grid_template_areas": null,
      "grid_template_columns": null,
      "grid_template_rows": null,
      "height": null,
      "justify_content": null,
      "justify_items": null,
      "left": null,
      "margin": null,
      "max_height": null,
      "max_width": null,
      "min_height": null,
      "min_width": null,
      "object_fit": null,
      "object_position": null,
      "order": null,
      "overflow": null,
      "overflow_x": null,
      "overflow_y": null,
      "padding": null,
      "right": null,
      "top": null,
      "visibility": null,
      "width": null
     }
    },
    "6abe7cc749d043129a34420b5ef5ee13": {
     "model_module": "@jupyter-widgets/base",
     "model_name": "LayoutModel",
     "state": {
      "_model_module": "@jupyter-widgets/base",
      "_model_module_version": "1.2.0",
      "_model_name": "LayoutModel",
      "_view_count": null,
      "_view_module": "@jupyter-widgets/base",
      "_view_module_version": "1.2.0",
      "_view_name": "LayoutView",
      "align_content": null,
      "align_items": null,
      "align_self": null,
      "border": null,
      "bottom": null,
      "display": null,
      "flex": null,
      "flex_flow": null,
      "grid_area": null,
      "grid_auto_columns": null,
      "grid_auto_flow": null,
      "grid_auto_rows": null,
      "grid_column": null,
      "grid_gap": null,
      "grid_row": null,
      "grid_template_areas": null,
      "grid_template_columns": null,
      "grid_template_rows": null,
      "height": null,
      "justify_content": null,
      "justify_items": null,
      "left": null,
      "margin": null,
      "max_height": null,
      "max_width": null,
      "min_height": null,
      "min_width": null,
      "object_fit": null,
      "object_position": null,
      "order": null,
      "overflow": null,
      "overflow_x": null,
      "overflow_y": null,
      "padding": null,
      "right": null,
      "top": null,
      "visibility": null,
      "width": null
     }
    },
    "6f63b75a58eb4fa990da4108621de284": {
     "model_module": "@jupyter-widgets/output",
     "model_name": "OutputModel",
     "state": {
      "_dom_classes": [],
      "_model_module": "@jupyter-widgets/output",
      "_model_module_version": "1.0.0",
      "_model_name": "OutputModel",
      "_view_count": null,
      "_view_module": "@jupyter-widgets/output",
      "_view_module_version": "1.0.0",
      "_view_name": "OutputView",
      "layout": "IPY_MODEL_295f7d68966442c4ac3c506d064de29c",
      "msg_id": "",
      "outputs": [
       {
        "image/png": "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\n",
        "metadata": {
         "needs_background": "light",
         "tags": []
        },
        "output_type": "display_data",
        "text/plain": "<Figure size 432x288 with 1 Axes>"
       }
      ]
     }
    },
    "dd443e2f0bff43f0a068227f1e7c30f7": {
     "model_module": "@jupyter-widgets/controls",
     "model_name": "VBoxModel",
     "state": {
      "_dom_classes": [
       "widget-interact"
      ],
      "_model_module": "@jupyter-widgets/controls",
      "_model_module_version": "1.5.0",
      "_model_name": "VBoxModel",
      "_view_count": null,
      "_view_module": "@jupyter-widgets/controls",
      "_view_module_version": "1.5.0",
      "_view_name": "VBoxView",
      "box_style": "",
      "children": [
       "IPY_MODEL_00a26c29a4ea4ee0aa182e316545c67e",
       "IPY_MODEL_6f63b75a58eb4fa990da4108621de284"
      ],
      "layout": "IPY_MODEL_6abe7cc749d043129a34420b5ef5ee13"
     }
    },
    "e09502aa46e44c3da72716e40103c325": {
     "model_module": "@jupyter-widgets/controls",
     "model_name": "DescriptionStyleModel",
     "state": {
      "_model_module": "@jupyter-widgets/controls",
      "_model_module_version": "1.5.0",
      "_model_name": "DescriptionStyleModel",
      "_view_count": null,
      "_view_module": "@jupyter-widgets/base",
      "_view_module_version": "1.2.0",
      "_view_name": "StyleView",
      "description_width": ""
     }
    },
    "e86d4c326f8b4e93be08710be91cc102": {
     "model_module": "@jupyter-widgets/base",
     "model_name": "LayoutModel",
     "state": {
      "_model_module": "@jupyter-widgets/base",
      "_model_module_version": "1.2.0",
      "_model_name": "LayoutModel",
      "_view_count": null,
      "_view_module": "@jupyter-widgets/base",
      "_view_module_version": "1.2.0",
      "_view_name": "LayoutView",
      "align_content": null,
      "align_items": null,
      "align_self": null,
      "border": null,
      "bottom": null,
      "display": null,
      "flex": null,
      "flex_flow": null,
      "grid_area": null,
      "grid_auto_columns": null,
      "grid_auto_flow": null,
      "grid_auto_rows": null,
      "grid_column": null,
      "grid_gap": null,
      "grid_row": null,
      "grid_template_areas": null,
      "grid_template_columns": null,
      "grid_template_rows": null,
      "height": null,
      "justify_content": null,
      "justify_items": null,
      "left": null,
      "margin": null,
      "max_height": null,
      "max_width": null,
      "min_height": null,
      "min_width": null,
      "object_fit": null,
      "object_position": null,
      "order": null,
      "overflow": null,
      "overflow_x": null,
      "overflow_y": null,
      "padding": null,
      "right": null,
      "top": null,
      "visibility": null,
      "width": null
     }
    }
   }
  }
 },
 "nbformat": 4,
 "nbformat_minor": 1
}
