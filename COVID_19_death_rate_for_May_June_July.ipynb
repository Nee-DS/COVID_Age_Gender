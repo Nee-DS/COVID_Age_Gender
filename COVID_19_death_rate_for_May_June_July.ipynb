{
 "cells": [
  {
   "cell_type": "code",
   "execution_count": 83,
   "metadata": {},
   "outputs": [],
   "source": [
    "import numpy as np\n",
    "import pandas as pd \n",
    "import os\n",
    "import shutil\n",
    "import matplotlib.pyplot as plt\n",
    "import seaborn as sns\n",
    "from scipy import stats\n",
    "sns.set(style=\"whitegrid\")\n",
    "from matplotlib import rcParams\n",
    "import matplotlib.pyplot as plt\n",
    "from IPython import display\n",
    "from ipywidgets import interact, widgets\n",
    "%matplotlib inline\n",
    "import scipy.stats"
   ]
  },
  {
   "cell_type": "code",
   "execution_count": 84,
   "metadata": {},
   "outputs": [],
   "source": [
    "df1=pd.read_excel(\"COVID-19_Death_Counts_5_6_2020.xlsx\") \n",
    "df2=pd.read_excel(\"COVID-19_Death_Counts_5_13_2020.xlsx\")\n",
    "df3=pd.read_excel(\"COVID-19_Death_Counts_5_28_2020.xlsx\")\n",
    "df4=pd.read_excel(\"COVID-19_Death_Counts_6_3_2020.xlsx\")\n",
    "df5=pd.read_excel(\"COVID-19_Death_Counts_6_10_2020.xlsx\")\n",
    "df6=pd.read_excel(\"COVID-19_Death_Counts_6_17_2020.xlsx\")\n",
    "df7=pd.read_excel(\"COVID-19_Death_Counts_6_24_2020.xlsx\")\n",
    "df8=pd.read_excel(\"COVID-19_Death_Counts_7_1_2020.xlsx\")\n",
    "df9=pd.read_excel(\"COVID-19_Death_Counts_7_8_2020.xlsx\")\n",
    "df10=pd.read_excel(\"COVID-19_Death_Counts_7_22_2020.xlsx\")\n",
    "df11=pd.read_excel(\"COVID-19_Death_Counts_7_29_2020.xlsx\")"
   ]
  },
  {
   "cell_type": "code",
   "execution_count": 85,
   "metadata": {},
   "outputs": [
    {
     "data": {
      "text/html": [
       "<div>\n",
       "<style scoped>\n",
       "    .dataframe tbody tr th:only-of-type {\n",
       "        vertical-align: middle;\n",
       "    }\n",
       "\n",
       "    .dataframe tbody tr th {\n",
       "        vertical-align: top;\n",
       "    }\n",
       "\n",
       "    .dataframe thead th {\n",
       "        text-align: right;\n",
       "    }\n",
       "</style>\n",
       "<table border=\"1\" class=\"dataframe\">\n",
       "  <thead>\n",
       "    <tr style=\"text-align: right;\">\n",
       "      <th></th>\n",
       "      <th>Data as of</th>\n",
       "      <th>Start week</th>\n",
       "      <th>End Week</th>\n",
       "      <th>State</th>\n",
       "      <th>Sex</th>\n",
       "      <th>Age group</th>\n",
       "      <th>COVID-19 Deaths</th>\n",
       "      <th>Total Deaths</th>\n",
       "      <th>Pneumonia Deaths</th>\n",
       "      <th>Pneumonia and COVID-19 Deaths</th>\n",
       "      <th>Influenza Deaths</th>\n",
       "      <th>Pneumonia, Influenza, or COVID-19 Deaths</th>\n",
       "      <th>Footnote</th>\n",
       "    </tr>\n",
       "  </thead>\n",
       "  <tbody>\n",
       "    <tr>\n",
       "      <th>0</th>\n",
       "      <td>2020-05-06</td>\n",
       "      <td>2020-02-01</td>\n",
       "      <td>2020-05-02</td>\n",
       "      <td>United States</td>\n",
       "      <td>All Sexes</td>\n",
       "      <td>Under 1 year</td>\n",
       "      <td>4.0</td>\n",
       "      <td>3951.0</td>\n",
       "      <td>36.0</td>\n",
       "      <td>1.0</td>\n",
       "      <td>11.0</td>\n",
       "      <td>50.0</td>\n",
       "      <td>NaN</td>\n",
       "    </tr>\n",
       "    <tr>\n",
       "      <th>1</th>\n",
       "      <td>2020-05-06</td>\n",
       "      <td>2020-02-01</td>\n",
       "      <td>2020-05-02</td>\n",
       "      <td>United States</td>\n",
       "      <td>All Sexes</td>\n",
       "      <td>1-4 years</td>\n",
       "      <td>2.0</td>\n",
       "      <td>780.0</td>\n",
       "      <td>33.0</td>\n",
       "      <td>2.0</td>\n",
       "      <td>33.0</td>\n",
       "      <td>66.0</td>\n",
       "      <td>NaN</td>\n",
       "    </tr>\n",
       "    <tr>\n",
       "      <th>2</th>\n",
       "      <td>2020-05-06</td>\n",
       "      <td>2020-02-01</td>\n",
       "      <td>2020-05-02</td>\n",
       "      <td>United States</td>\n",
       "      <td>All Sexes</td>\n",
       "      <td>5-14 years</td>\n",
       "      <td>4.0</td>\n",
       "      <td>1146.0</td>\n",
       "      <td>38.0</td>\n",
       "      <td>0.0</td>\n",
       "      <td>41.0</td>\n",
       "      <td>83.0</td>\n",
       "      <td>NaN</td>\n",
       "    </tr>\n",
       "    <tr>\n",
       "      <th>3</th>\n",
       "      <td>2020-05-06</td>\n",
       "      <td>2020-02-01</td>\n",
       "      <td>2020-05-02</td>\n",
       "      <td>United States</td>\n",
       "      <td>All Sexes</td>\n",
       "      <td>15-24 years</td>\n",
       "      <td>48.0</td>\n",
       "      <td>6843.0</td>\n",
       "      <td>143.0</td>\n",
       "      <td>18.0</td>\n",
       "      <td>41.0</td>\n",
       "      <td>211.0</td>\n",
       "      <td>NaN</td>\n",
       "    </tr>\n",
       "    <tr>\n",
       "      <th>4</th>\n",
       "      <td>2020-05-06</td>\n",
       "      <td>2020-02-01</td>\n",
       "      <td>2020-05-02</td>\n",
       "      <td>United States</td>\n",
       "      <td>All Sexes</td>\n",
       "      <td>25-34 years</td>\n",
       "      <td>317.0</td>\n",
       "      <td>14629.0</td>\n",
       "      <td>496.0</td>\n",
       "      <td>134.0</td>\n",
       "      <td>133.0</td>\n",
       "      <td>800.0</td>\n",
       "      <td>NaN</td>\n",
       "    </tr>\n",
       "  </tbody>\n",
       "</table>\n",
       "</div>"
      ],
      "text/plain": [
       "  Data as of Start week   End Week          State        Sex     Age group  \\\n",
       "0 2020-05-06 2020-02-01 2020-05-02  United States  All Sexes  Under 1 year   \n",
       "1 2020-05-06 2020-02-01 2020-05-02  United States  All Sexes     1-4 years   \n",
       "2 2020-05-06 2020-02-01 2020-05-02  United States  All Sexes    5-14 years   \n",
       "3 2020-05-06 2020-02-01 2020-05-02  United States  All Sexes   15-24 years   \n",
       "4 2020-05-06 2020-02-01 2020-05-02  United States  All Sexes   25-34 years   \n",
       "\n",
       "   COVID-19 Deaths  Total Deaths  Pneumonia Deaths  \\\n",
       "0              4.0        3951.0              36.0   \n",
       "1              2.0         780.0              33.0   \n",
       "2              4.0        1146.0              38.0   \n",
       "3             48.0        6843.0             143.0   \n",
       "4            317.0       14629.0             496.0   \n",
       "\n",
       "   Pneumonia and COVID-19 Deaths  Influenza Deaths  \\\n",
       "0                            1.0              11.0   \n",
       "1                            2.0              33.0   \n",
       "2                            0.0              41.0   \n",
       "3                           18.0              41.0   \n",
       "4                          134.0             133.0   \n",
       "\n",
       "   Pneumonia, Influenza, or COVID-19 Deaths Footnote  \n",
       "0                                      50.0      NaN  \n",
       "1                                      66.0      NaN  \n",
       "2                                      83.0      NaN  \n",
       "3                                     211.0      NaN  \n",
       "4                                     800.0      NaN  "
      ]
     },
     "execution_count": 85,
     "metadata": {},
     "output_type": "execute_result"
    }
   ],
   "source": [
    "df1.head()"
   ]
  },
  {
   "cell_type": "code",
   "execution_count": 86,
   "metadata": {},
   "outputs": [],
   "source": [
    "# rename all the columns in the excel file \n",
    "def rename(df):\n",
    "    df.rename(columns={'Start week':'Start_week','End Week':'End_Week','Age group':'Age_group','COVID-19 Deaths':'COVID-19_Deaths',\n",
    "                   'Total Deaths':'Total_Deaths','Pneumonia Deaths':'Pneumonia_Deaths','Pneumonia and COVID-19 Deaths':'Pneumonia_COVID-19_Deaths',\n",
    "                     'Influenza Deaths':'Influenza_Deaths','Pneumonia, Influenza, or COVID-19 Deaths': 'P_I_C_deaths'}, inplace=True)\n",
    "  \n"
   ]
  },
  {
   "cell_type": "code",
   "execution_count": 87,
   "metadata": {},
   "outputs": [],
   "source": [
    "rename(df1)\n",
    "rename(df2)\n",
    "rename(df3)\n",
    "rename(df4)\n",
    "rename(df5)\n",
    "rename(df6)\n",
    "rename(df7)\n",
    "rename(df8)\n",
    "rename(df9)\n",
    "rename(df10)\n",
    "rename(df11)"
   ]
  },
  {
   "cell_type": "code",
   "execution_count": 88,
   "metadata": {},
   "outputs": [],
   "source": [
    "dict_age={'Under 1 year':'less_than_1_year','1-4 years':'1_to_4','5-14 years':'5_to_14','15-24 years':'15_to_24',\n",
    "       '25-34 years':'25_to_34', '35-44 years':'35_to_44', '45-54 years':'45_to_54', '55-64 years':'55_to_64',\n",
    "       '65-74 years':'65_to_74', '75-84 years':'75_to_84', '85 years and over':'more_than_85','Female, all ages':'Female_all',\n",
    "                                          'All ages':'All_age','Male, all ages':'Male_all','All Ages':'All_age'}"
   ]
  },
  {
   "cell_type": "code",
   "execution_count": 89,
   "metadata": {},
   "outputs": [],
   "source": [
    "#replace the Age_group column with formatted strings\n",
    "df1.Age_group= df1.Age_group.replace(dict_age) \n",
    "\n",
    "df2.Age_group= df2.Age_group.replace(dict_age) \n",
    "\n",
    "df3.Age_group= df3.Age_group.replace(dict_age) \n",
    "\n",
    "df4.Age_group= df4.Age_group.replace(dict_age) \n",
    "\n",
    "df5.Age_group= df5.Age_group.replace(dict_age) \n",
    "\n",
    "df6.Age_group= df6.Age_group.replace(dict_age) \n",
    "\n",
    "df7.Age_group= df7.Age_group.replace(dict_age) \n",
    "\n",
    "df8.Age_group= df8.Age_group.replace(dict_age) \n",
    "\n",
    "df9.Age_group= df9.Age_group.replace(dict_age) \n",
    "\n",
    "df10.Age_group= df10.Age_group.replace(dict_age) \n",
    "\n",
    "df11.Age_group= df11.Age_group.replace(dict_age) "
   ]
  },
  {
   "cell_type": "code",
   "execution_count": 90,
   "metadata": {},
   "outputs": [],
   "source": [
    "#replace the column with sex to All_sexes as we are collecting the overall data and will not be differentiating on sex"
   ]
  },
  {
   "cell_type": "code",
   "execution_count": 91,
   "metadata": {},
   "outputs": [],
   "source": [
    "df1[\"Sex\"]= df1[\"Sex\"].replace({'All Sexes':'All_Sexes'}) \n",
    "df2[\"Sex\"]= df2[\"Sex\"].replace({'All Sexes':'All_Sexes'}) \n",
    "df3[\"Sex\"]= df3[\"Sex\"].replace({'All Sexes':'All_Sexes'}) \n",
    "df4[\"Sex\"]= df4[\"Sex\"].replace({'All Sexes':'All_Sexes'}) \n",
    "df5[\"Sex\"]= df5[\"Sex\"].replace({'All Sexes':'All_Sexes'}) \n",
    "df6[\"Sex\"]= df6[\"Sex\"].replace({'All Sexes':'All_Sexes'}) \n",
    "df7[\"Sex\"]= df7[\"Sex\"].replace({'All Sexes':'All_Sexes'}) \n",
    "df8[\"Sex\"]= df8[\"Sex\"].replace({'All Sexes':'All_Sexes'}) \n",
    "df9[\"Sex\"]= df9[\"Sex\"].replace({'All Sexes':'All_Sexes'}) \n",
    "df10[\"Sex\"]= df10[\"Sex\"].replace({'All Sexes':'All_Sexes'}) \n",
    "df11[\"Sex\"]= df11[\"Sex\"].replace({'All Sexes':'All_Sexes'}) "
   ]
  },
  {
   "cell_type": "code",
   "execution_count": 92,
   "metadata": {},
   "outputs": [],
   "source": [
    "df1 = df1[['State', 'Age_group', 'COVID-19_Deaths','Total_Deaths','Sex']]\n",
    "df2 = df2[['State', 'Age_group', 'COVID-19_Deaths','Total_Deaths','Sex']]\n",
    "df3 = df3[['State', 'Age_group', 'COVID-19_Deaths','Total_Deaths','Sex']]\n",
    "df4 = df4[['State', 'Age_group', 'COVID-19_Deaths','Total_Deaths','Sex']]\n",
    "df5 = df5[['State', 'Age_group', 'COVID-19_Deaths','Total_Deaths','Sex']]\n",
    "df6 = df6[['State', 'Age_group', 'COVID-19_Deaths','Total_Deaths','Sex']]\n",
    "df7 = df7[['State', 'Age_group', 'COVID-19_Deaths','Total_Deaths','Sex']]\n",
    "df8 = df8[['State', 'Age_group', 'COVID-19_Deaths','Total_Deaths','Sex']]\n",
    "df9 = df9[['State', 'Age_group', 'COVID-19_Deaths','Total_Deaths','Sex']]\n",
    "df10 = df10[['State', 'Age_group', 'COVID-19_Deaths','Total_Deaths','Sex']]\n",
    "df11 = df11[['State', 'Age_group', 'COVID-19_Deaths','Total_Deaths','Sex']]"
   ]
  },
  {
   "cell_type": "code",
   "execution_count": 93,
   "metadata": {},
   "outputs": [],
   "source": [
    "df_5_6 = df1.fillna(0)\n",
    "df_5_13 = df2.fillna(0)\n",
    "df_5_28 = df3.fillna(0)\n",
    "df_6_3 = df4.fillna(0)\n",
    "df_6_10 = df5.fillna(0)\n",
    "df_6_17 = df6.fillna(0)\n",
    "df_6_24 = df7.fillna(0)\n",
    "df_7_1 = df8.fillna(0)\n",
    "df_7_8 = df9.fillna(0)\n",
    "df_7_22 = df10.fillna(0)\n",
    "df_7_29 = df11.fillna(0)"
   ]
  },
  {
   "cell_type": "code",
   "execution_count": 94,
   "metadata": {},
   "outputs": [],
   "source": [
    "ages=['less_than_1_year','1_to_4','5_to_14','15_to_24',\n",
    "      '25_to_34', '35_to_44', '45_to_54', '55_to_64','65_to_74', '75_to_84', 'more_than_85']"
   ]
  },
  {
   "cell_type": "code",
   "execution_count": 95,
   "metadata": {},
   "outputs": [],
   "source": [
    "df_5_6_=df_5_6[df_5_6['Age_group'].isin(ages)]\n",
    "df_5_13_=df_5_13[df_5_13['Age_group'].isin(ages)]\n",
    "df_5_28_=df_5_28[df_5_28['Age_group'].isin(ages)]\n",
    "df_6_3_=df_6_3[df_6_3['Age_group'].isin(ages)]\n",
    "df_6_10_=df_6_10[df_6_10['Age_group'].isin(ages)]\n",
    "df_6_17_=df_6_17[df_6_17['Age_group'].isin(ages)]\n",
    "df_6_24_=df_6_24[df_6_24['Age_group'].isin(ages)]\n",
    "df_7_1_=df_7_1[df_7_1['Age_group'].isin(ages)]\n",
    "df_7_8_=df_7_8[df_7_8['Age_group'].isin(ages)]\n",
    "df_7_22_=df_7_22[df_7_22['Age_group'].isin(ages)]\n",
    "df_7_29_=df_7_29[df_7_29['Age_group'].isin(ages)]"
   ]
  },
  {
   "cell_type": "code",
   "execution_count": 96,
   "metadata": {},
   "outputs": [],
   "source": [
    "string_list=['Female_all','All_age','Male_all']\n",
    "df_5_6_final = df_5_6_[~df_5_6_['Age_group'].isin(string_list)]\n",
    "df_5_13_final = df_5_13_[~df_5_13_['Age_group'].isin(string_list)]\n",
    "df_5_28_final = df_5_28_[~df_5_28_['Age_group'].isin(string_list)]\n",
    "df_6_3_final = df_6_3_[~df_6_3_['Age_group'].isin(string_list)]\n",
    "df_6_10_final = df_6_10_[~df_6_10_['Age_group'].isin(string_list)]\n",
    "df_6_17_final = df_6_17_[~df_6_17_['Age_group'].isin(string_list)]\n",
    "df_6_24_final = df_6_24_[~df_6_24_['Age_group'].isin(string_list)]\n",
    "df_7_1_final = df_7_1_[~df_7_1_['Age_group'].isin(string_list)]\n",
    "df_7_8_final = df_7_8_[~df_7_1_['Age_group'].isin(string_list)]\n",
    "df_7_22_final = df_7_22_[~df_7_22_['Age_group'].isin(string_list)]\n",
    "df_7_29_final = df_7_29_[~df_7_29_['Age_group'].isin(string_list)]"
   ]
  },
  {
   "cell_type": "code",
   "execution_count": 97,
   "metadata": {},
   "outputs": [],
   "source": [
    "df_5_6_final2=df_5_6_final[~df_5_6_final.Sex.str.contains(\"All_Sexes\")]\n",
    "df_5_13_final2=df_5_13_final[~df_5_13_final.Sex.str.contains(\"All_Sexes\")]\n",
    "df_5_28_final2=df_5_28_final[~df_5_28_final.Sex.str.contains(\"All_Sexes\")]\n",
    "df_6_3_final2=df_6_3_final[~df_6_3_final.Sex.str.contains(\"All_Sexes\")]\n",
    "df_6_10_final2=df_6_10_final[~df_6_10_final.Sex.str.contains(\"All_Sexes\")]\n",
    "df_6_17_final2=df_6_17_final[~df_6_17_final.Sex.str.contains(\"All_Sexes\")]\n",
    "df_6_24_final2=df_6_24_final[~df_6_24_final.Sex.str.contains(\"All_Sexes\")]\n",
    "df_7_1_final2=df_7_1_final[~df_7_1_final.Sex.str.contains(\"All_Sexes\")]\n",
    "df_7_8_final2=df_7_8_final[~df_7_8_final.Sex.str.contains(\"All_Sexes\")]\n",
    "df_7_22_final2=df_7_22_final[~df_7_22_final.Sex.str.contains(\"All_Sexes\")]\n",
    "df_7_29_final2=df_7_29_final[~df_7_29_final.Sex.str.contains(\"All_Sexes\")]"
   ]
  },
  {
   "cell_type": "code",
   "execution_count": 98,
   "metadata": {},
   "outputs": [],
   "source": [
    "df_5_6_2020=df_5_6_final2.groupby(['State','Age_group']).agg({'COVID-19_Deaths':'sum','Total_Deaths':'sum'}).reset_index()\n",
    "df_5_13_2020=df_5_13_final2.groupby(['State','Age_group']).agg({'COVID-19_Deaths':'sum','Total_Deaths':'sum'}).reset_index()\n",
    "df_5_28_2020=df_5_28_final2.groupby(['State','Age_group']).agg({'COVID-19_Deaths':'sum','Total_Deaths':'sum'}).reset_index()\n",
    "df_6_3_2020=df_6_3_final2.groupby(['State','Age_group']).agg({'COVID-19_Deaths':'sum','Total_Deaths':'sum'}).reset_index()\n",
    "df_6_10_2020=df_6_10_final2.groupby(['State','Age_group']).agg({'COVID-19_Deaths':'sum','Total_Deaths':'sum'}).reset_index()\n",
    "df_6_17_2020=df_6_17_final2.groupby(['State','Age_group']).agg({'COVID-19_Deaths':'sum','Total_Deaths':'sum'}).reset_index()\n",
    "df_6_24_2020=df_6_24_final2.groupby(['State','Age_group']).agg({'COVID-19_Deaths':'sum','Total_Deaths':'sum'}).reset_index()\n",
    "df_7_1_2020=df_7_1_final2.groupby(['State','Age_group']).agg({'COVID-19_Deaths':'sum','Total_Deaths':'sum'}).reset_index()\n",
    "df_7_8_2020=df_7_8_final2.groupby(['State','Age_group']).agg({'COVID-19_Deaths':'sum','Total_Deaths':'sum'}).reset_index()\n",
    "df_7_22_2020=df_7_22_final2.groupby(['State','Age_group']).agg({'COVID-19_Deaths':'sum','Total_Deaths':'sum'}).reset_index()\n",
    "df_7_29_2020=df_7_29_final2.groupby(['State','Age_group']).agg({'COVID-19_Deaths':'sum','Total_Deaths':'sum'}).reset_index()"
   ]
  },
  {
   "cell_type": "code",
   "execution_count": 99,
   "metadata": {},
   "outputs": [],
   "source": [
    "\n",
    "\n",
    "df_5_6_2020['avg_death']=df_5_6_2020['COVID-19_Deaths']/df_5_6_2020['Total_Deaths']\n",
    "\n",
    "df_5_13_2020['avg_death']=df_5_13_2020['COVID-19_Deaths']/df_5_13_2020['Total_Deaths']\n",
    "df_5_28_2020['avg_death']=df_5_28_2020['COVID-19_Deaths']/df_5_28_2020['Total_Deaths']\n",
    "df_6_3_2020['avg_death']=df_6_3_2020['COVID-19_Deaths']/df_6_3_2020['Total_Deaths']\n",
    "df_6_10_2020['avg_death']=df_6_10_2020['COVID-19_Deaths']/df_6_10_2020['Total_Deaths']\n",
    "df_6_17_2020['avg_death']=df_6_17_2020['COVID-19_Deaths']/df_6_17_2020['Total_Deaths']\n",
    "df_6_24_2020['avg_death']=df_6_24_2020['COVID-19_Deaths']/df_6_24_2020['Total_Deaths']\n",
    "df_7_1_2020['avg_death']=df_7_1_2020['COVID-19_Deaths']/df_7_1_2020['Total_Deaths']\n",
    "df_7_8_2020['avg_death']=df_7_8_2020['COVID-19_Deaths']/df_7_8_2020['Total_Deaths']\n",
    "df_7_22_2020['avg_death']=df_7_22_2020['COVID-19_Deaths']/df_7_22_2020['Total_Deaths']\n",
    "df_7_29_2020['avg_death']=df_7_29_2020['COVID-19_Deaths']/df_7_29_2020['Total_Deaths']\n"
   ]
  },
  {
   "cell_type": "code",
   "execution_count": 100,
   "metadata": {},
   "outputs": [],
   "source": [
    "df_5_6_2020 = df_5_6_2020.fillna(0)\n",
    "df_5_13_2020 = df_5_13_2020.fillna(0)\n",
    "df_5_28_2020 = df_5_28_2020.fillna(0)\n",
    "df_6_3_2020 = df_6_3_2020.fillna(0)\n",
    "df_6_10_2020 = df_6_10_2020.fillna(0)\n",
    "df_6_17_2020 = df_6_17_2020.fillna(0)\n",
    "df_6_24_2020 = df_6_24_2020.fillna(0)\n",
    "df_7_1_2020 = df_7_1_2020.fillna(0)\n",
    "df_7_8_2020 = df_7_8_2020.fillna(0)\n",
    "df_7_22_2020 = df_7_22_2020.fillna(0)\n",
    "df_7_29_2020 = df_7_29_2020.fillna(0)"
   ]
  },
  {
   "cell_type": "code",
   "execution_count": 101,
   "metadata": {},
   "outputs": [],
   "source": [
    "df_5_6_2020.Age_group=pd.Categorical(df_5_6_2020.Age_group,categories=['less_than_1_year','1_to_4','5_to_14','15_to_24',\n",
    "      '25_to_34', '35_to_44', '45_to_54', '55_to_64','65_to_74', '75_to_84', 'more_than_85'])\n",
    "df_5_6_2020=df_5_6_2020.sort_values('Age_group')\n",
    "\n",
    "df_5_13_2020.Age_group=pd.Categorical(df_5_13_2020.Age_group,categories=['less_than_1_year','1_to_4','5_to_14','15_to_24',\n",
    "      '25_to_34', '35_to_44', '45_to_54', '55_to_64','65_to_74', '75_to_84', 'more_than_85'])\n",
    "df_5_13_2020=df_5_13_2020.sort_values('Age_group')\n",
    "\n",
    "df_5_28_2020.Age_group=pd.Categorical(df_5_28_2020.Age_group,categories=['less_than_1_year','1_to_4','5_to_14','15_to_24',\n",
    "      '25_to_34', '35_to_44', '45_to_54', '55_to_64','65_to_74', '75_to_84', 'more_than_85'])\n",
    "df_5_28_2020=df_5_28_2020.sort_values('Age_group')\n",
    "\n",
    "df_6_3_2020.Age_group=pd.Categorical(df_6_3_2020.Age_group,categories=['less_than_1_year','1_to_4','5_to_14','15_to_24',\n",
    "      '25_to_34', '35_to_44', '45_to_54', '55_to_64','65_to_74', '75_to_84', 'more_than_85'])\n",
    "df_6_3_2020=df_6_3_2020.sort_values('Age_group')\n",
    "\n",
    "df_6_10_2020.Age_group=pd.Categorical(df_6_10_2020.Age_group,categories=['less_than_1_year','1_to_4','5_to_14','15_to_24',\n",
    "      '25_to_34', '35_to_44', '45_to_54', '55_to_64','65_to_74', '75_to_84', 'more_than_85'])\n",
    "df_6_10_2020=df_6_10_2020.sort_values('Age_group')\n",
    "\n",
    "df_6_17_2020.Age_group=pd.Categorical(df_6_17_2020.Age_group,categories=['less_than_1_year','1_to_4','5_to_14','15_to_24',\n",
    "      '25_to_34', '35_to_44', '45_to_54', '55_to_64','65_to_74', '75_to_84', 'more_than_85'])\n",
    "df_6_17_2020=df_6_17_2020.sort_values('Age_group')\n",
    "\n",
    "df_6_24_2020.Age_group=pd.Categorical(df_6_24_2020.Age_group,categories=['less_than_1_year','1_to_4','5_to_14','15_to_24',\n",
    "      '25_to_34', '35_to_44', '45_to_54', '55_to_64','65_to_74', '75_to_84', 'more_than_85'])\n",
    "df_6_24_2020=df_6_24_2020.sort_values('Age_group')\n",
    "\n",
    "df_7_1_2020.Age_group=pd.Categorical(df_7_1_2020.Age_group,categories=['less_than_1_year','1_to_4','5_to_14','15_to_24',\n",
    "      '25_to_34', '35_to_44', '45_to_54', '55_to_64','65_to_74', '75_to_84', 'more_than_85'])\n",
    "df_7_1_2020=df_7_1_2020.sort_values('Age_group')\n",
    "\n",
    "df_7_8_2020.Age_group=pd.Categorical(df_7_8_2020.Age_group,categories=['less_than_1_year','1_to_4','5_to_14','15_to_24',\n",
    "      '25_to_34', '35_to_44', '45_to_54', '55_to_64','65_to_74', '75_to_84', 'more_than_85'])\n",
    "df_7_8_2020=df_7_8_2020.sort_values('Age_group')\n",
    "\n",
    "df_7_22_2020.Age_group=pd.Categorical(df_7_22_2020.Age_group,categories=['less_than_1_year','1_to_4','5_to_14','15_to_24',\n",
    "      '25_to_34', '35_to_44', '45_to_54', '55_to_64','65_to_74', '75_to_84', 'more_than_85'])\n",
    "df_7_22_2020=df_7_22_2020.sort_values('Age_group')\n",
    "\n",
    "df_7_29_2020.Age_group=pd.Categorical(df_7_29_2020.Age_group,categories=['less_than_1_year','1_to_4','5_to_14','15_to_24',\n",
    "      '25_to_34', '35_to_44', '45_to_54', '55_to_64','65_to_74', '75_to_84', 'more_than_85'])\n",
    "df_7_29_2020=df_7_29_2020.sort_values('Age_group')"
   ]
  },
  {
   "cell_type": "code",
   "execution_count": 102,
   "metadata": {},
   "outputs": [],
   "source": [
    "df_5_6_2020=pd.pivot_table(df_5_6_2020, values = 'COVID-19_Deaths', index=['Age_group'], columns = 'State').reset_index()\n",
    "df_5_13_2020=pd.pivot_table(df_5_13_2020, values = 'COVID-19_Deaths', index=['Age_group'], columns = 'State').reset_index()\n",
    "df_5_28_2020=pd.pivot_table(df_5_28_2020, values = 'COVID-19_Deaths', index=['Age_group'], columns = 'State').reset_index()\n",
    "df_6_3_2020=pd.pivot_table(df_6_3_2020, values = 'COVID-19_Deaths', index=['Age_group'], columns = 'State').reset_index()\n",
    "df_6_10_2020=pd.pivot_table(df_6_10_2020, values = 'COVID-19_Deaths', index=['Age_group'], columns = 'State').reset_index()\n",
    "df_6_17_2020=pd.pivot_table(df_6_17_2020, values = 'COVID-19_Deaths', index=['Age_group'], columns = 'State').reset_index()\n",
    "df_6_24_2020=pd.pivot_table(df_6_24_2020, values = 'COVID-19_Deaths', index=['Age_group'], columns = 'State').reset_index()\n",
    "df_7_1_2020=pd.pivot_table(df_7_1_2020, values = 'COVID-19_Deaths', index=['Age_group'], columns = 'State').reset_index()\n",
    "df_7_8_2020=pd.pivot_table(df_7_8_2020, values = 'COVID-19_Deaths', index=['Age_group'], columns = 'State').reset_index()\n",
    "df_7_22_2020=pd.pivot_table(df_7_22_2020, values = 'COVID-19_Deaths', index=['Age_group'], columns = 'State').reset_index()\n",
    "df_7_29_2020=pd.pivot_table(df_7_29_2020, values = 'COVID-19_Deaths', index=['Age_group'], columns = 'State').reset_index()"
   ]
  },
  {
   "cell_type": "code",
   "execution_count": 103,
   "metadata": {},
   "outputs": [],
   "source": [
    "df_5_6_2020[\"Age_group\"].replace({'less_than_1_year':0.5,'1_to_4':2.5,'5_to_14':9.5,'15_to_24':19.5,'25_to_34':29.5, '35_to_44':39.5, '45_to_54':49.5, '55_to_64':59.5,'65_to_74':69.5, '75_to_84':79.5, 'more_than_85':92.5}, inplace=True)\n",
    "df_5_13_2020[\"Age_group\"].replace({'less_than_1_year':0.5,'1_to_4':2.5,'5_to_14':9.5,'15_to_24':19.5,'25_to_34':29.5, '35_to_44':39.5, '45_to_54':49.5, '55_to_64':59.5,'65_to_74':69.5, '75_to_84':79.5, 'more_than_85':92.5}, inplace=True)\n",
    "df_5_28_2020[\"Age_group\"].replace({'less_than_1_year':0.5,'1_to_4':2.5,'5_to_14':9.5,'15_to_24':19.5,'25_to_34':29.5, '35_to_44':39.5, '45_to_54':49.5, '55_to_64':59.5,'65_to_74':69.5, '75_to_84':79.5, 'more_than_85':92.5}, inplace=True)\n",
    "df_6_3_2020[\"Age_group\"].replace({'less_than_1_year':0.5,'1_to_4':2.5,'5_to_14':9.5,'15_to_24':19.5,'25_to_34':29.5, '35_to_44':39.5, '45_to_54':49.5, '55_to_64':59.5,'65_to_74':69.5, '75_to_84':79.5, 'more_than_85':92.5}, inplace=True)\n",
    "df_6_10_2020[\"Age_group\"].replace({'less_than_1_year':0.5,'1_to_4':2.5,'5_to_14':9.5,'15_to_24':19.5,'25_to_34':29.5, '35_to_44':39.5, '45_to_54':49.5, '55_to_64':59.5,'65_to_74':69.5, '75_to_84':79.5, 'more_than_85':92.5}, inplace=True)\n",
    "df_6_17_2020[\"Age_group\"].replace({'less_than_1_year':0.5,'1_to_4':2.5,'5_to_14':9.5,'15_to_24':19.5,'25_to_34':29.5, '35_to_44':39.5, '45_to_54':49.5, '55_to_64':59.5,'65_to_74':69.5, '75_to_84':79.5, 'more_than_85':92.5}, inplace=True)\n",
    "df_6_24_2020[\"Age_group\"].replace({'less_than_1_year':0.5,'1_to_4':2.5,'5_to_14':9.5,'15_to_24':19.5,'25_to_34':29.5, '35_to_44':39.5, '45_to_54':49.5, '55_to_64':59.5,'65_to_74':69.5, '75_to_84':79.5, 'more_than_85':92.5}, inplace=True)\n",
    "df_7_1_2020[\"Age_group\"].replace({'less_than_1_year':0.5,'1_to_4':2.5,'5_to_14':9.5,'15_to_24':19.5,'25_to_34':29.5, '35_to_44':39.5, '45_to_54':49.5, '55_to_64':59.5,'65_to_74':69.5, '75_to_84':79.5, 'more_than_85':92.5}, inplace=True)\n",
    "df_7_8_2020[\"Age_group\"].replace({'less_than_1_year':0.5,'1_to_4':2.5,'5_to_14':9.5,'15_to_24':19.5,'25_to_34':29.5, '35_to_44':39.5, '45_to_54':49.5, '55_to_64':59.5,'65_to_74':69.5, '75_to_84':79.5, 'more_than_85':92.5}, inplace=True)\n",
    "df_7_22_2020[\"Age_group\"].replace({'less_than_1_year':0.5,'1_to_4':2.5,'5_to_14':9.5,'15_to_24':19.5,'25_to_34':29.5, '35_to_44':39.5, '45_to_54':49.5, '55_to_64':59.5,'65_to_74':69.5, '75_to_84':79.5, 'more_than_85':92.5}, inplace=True)\n",
    "df_7_29_2020[\"Age_group\"].replace({'less_than_1_year':0.5,'1_to_4':2.5,'5_to_14':9.5,'15_to_24':19.5,'25_to_34':29.5, '35_to_44':39.5, '45_to_54':49.5, '55_to_64':59.5,'65_to_74':69.5, '75_to_84':79.5, 'more_than_85':92.5}, inplace=True)\n"
   ]
  },
  {
   "cell_type": "code",
   "execution_count": 104,
   "metadata": {},
   "outputs": [],
   "source": [
    "states={'Alabama':'AL','Alaska':'AK','Arizona':'AZ','Arkansas':'AR','California':'CA','Colorado':'CO','Connecticut': 'CT','Delaware': 'DE','District of Columbia':'DoC','Florida':'FL','Georgia':'GA',\n",
    "'Hawaii':'HI','Idaho':'ID','Illinois': 'IL','Indiana': 'IN', 'Iowa':'IA','Kansas':'KS','Kentucky':'KY', 'Louisiana':'LA','Maine': 'ME', 'Maryland':'MD','Massachusetts': 'MA',\n",
    "'Michigan': 'MI','Minnesota':'MN','Mississippi':'MS', 'Missouri':'MO','Montana': 'MT','Nebraska':'NE','Nevada':'NV','New Hampshire': 'NH','New Jersey':'NJ','New Mexico':'NM','New York':'NY','New York City':'NYC',\n",
    "'North Carolina':'NC','North Dakota': 'ND','Ohio':'OH','Oklahoma':'OK','Oregon':'OR','Pennsylvania': 'PA','Puerto Rico':'PR','Rhode Island': 'RI','South Carolina' :'SC',\n",
    "'South Dakota': 'SD','Tennessee':'TN','Texas': 'TX','United States':'US','Utah':'UT','Vermont': 'VT','Virginia': 'VA','Washington': 'WA','West Virginia': 'WV','Wisconsin': 'WI','Wyoming': 'WY'}"
   ]
  },
  {
   "cell_type": "code",
   "execution_count": 105,
   "metadata": {},
   "outputs": [],
   "source": [
    "df1=df_5_6_2020.rename(columns=states)\n",
    "\n",
    "df2=df_5_13_2020.rename(columns=states)\n",
    "\n",
    "df3=df_5_28_2020.rename(columns=states)\n",
    "\n",
    "df4=df_6_3_2020.rename(columns=states)\n",
    "\n",
    "df5=df_6_10_2020.rename(columns=states)\n",
    "\n",
    "df6=df_6_17_2020.rename(columns=states)\n",
    "\n",
    "df7=df_6_24_2020.rename(columns=states)\n",
    "\n",
    "df8=df_7_1_2020.rename(columns=states)\n",
    "\n",
    "df9=df_7_8_2020.rename(columns=states)\n",
    "\n",
    "df10=df_7_22_2020.rename(columns=states)\n",
    "\n",
    "df11=df_7_29_2020.rename(columns=states)"
   ]
  },
  {
   "cell_type": "code",
   "execution_count": 106,
   "metadata": {},
   "outputs": [],
   "source": [
    "df1_US=df1['US']\n",
    "df1_age=df1['Age_group']\n",
    "\n",
    "df2_US=df2[\"US\"]\n",
    "df2_age=df2[\"Age_group\"]\n",
    "\n",
    "df3_US=df3[\"US\"]\n",
    "df3_age=df3[\"Age_group\"]\n",
    "\n",
    "df4_US=df4[\"US\"]\n",
    "df4_age=df4[\"Age_group\"]\n",
    "\n",
    "df5_US=df5[\"US\"]\n",
    "df5_age=df5[\"Age_group\"]\n",
    "\n",
    "df6_US=df6[\"US\"]\n",
    "df6_age=df6[\"Age_group\"]\n",
    "\n",
    "df7_US=df7[\"US\"]\n",
    "df7_age=df7[\"Age_group\"]\n",
    "\n",
    "df8_US=df8[\"US\"]\n",
    "df8_age=df8[\"Age_group\"]\n",
    "\n",
    "df9_US=df9[\"US\"]\n",
    "df9_age=df9[\"Age_group\"]\n",
    "\n",
    "df10_US=df10[\"US\"]\n",
    "df10_age=df10[\"Age_group\"]\n",
    "\n",
    "df11_US=df11[\"US\"]\n",
    "df11_age=df11[\"Age_group\"]\n"
   ]
  },
  {
   "cell_type": "code",
   "execution_count": 107,
   "metadata": {},
   "outputs": [],
   "source": [
    "df1_US=pd.DataFrame({\"Age\":df1_age,\"US\":df1_US})\n",
    "df2_US=pd.DataFrame({\"Age\":df2_age,\"US\":df2_US})\n",
    "df3_US=pd.DataFrame({\"Age\":df3_age,\"US\":df3_US})\n",
    "df4_US=pd.DataFrame({\"Age\":df4_age,\"US\":df4_US})\n",
    "df5_US=pd.DataFrame({\"Age\":df5_age,\"US\":df5_US})\n",
    "df6_US=pd.DataFrame({\"Age\":df6_age,\"US\":df6_US})\n",
    "df7_US=pd.DataFrame({\"Age\":df7_age,\"US\":df7_US})\n",
    "df8_US=pd.DataFrame({\"Age\":df8_age,\"US\":df8_US})\n",
    "df9_US=pd.DataFrame({\"Age\":df9_age,\"US\":df9_US})\n",
    "df10_US=pd.DataFrame({\"Age\":df10_age,\"US\":df10_US})\n",
    "df11_US=pd.DataFrame({\"Age\":df11_age,\"US\":df11_US})"
   ]
  },
  {
   "cell_type": "code",
   "execution_count": 108,
   "metadata": {},
   "outputs": [],
   "source": [
    "df1_US_avg=round(df1_US[[\"US\"]].multiply(df1_US[\"Age\"],axis=\"index\").sum()/df1_US[\"US\"].sum())\n",
    "df2_US_avg=round(df2_US[[\"US\"]].multiply(df2_US[\"Age\"],axis=\"index\").sum()/df2_US[\"US\"].sum())\n",
    "df3_US_avg=round(df3_US[[\"US\"]].multiply(df3_US[\"Age\"],axis=\"index\").sum()/df3_US[\"US\"].sum())\n",
    "df4_US_avg=round(df4_US[[\"US\"]].multiply(df4_US[\"Age\"],axis=\"index\").sum()/df4_US[\"US\"].sum())\n",
    "df5_US_avg=round(df5_US[[\"US\"]].multiply(df5_US[\"Age\"],axis=\"index\").sum()/df5_US[\"US\"].sum())\n",
    "df6_US_avg=round(df6_US[[\"US\"]].multiply(df6_US[\"Age\"],axis=\"index\").sum()/df6_US[\"US\"].sum())\n",
    "df7_US_avg=round(df7_US[[\"US\"]].multiply(df7_US[\"Age\"],axis=\"index\").sum()/df7_US[\"US\"].sum())\n",
    "df8_US_avg=round(df8_US[[\"US\"]].multiply(df8_US[\"Age\"],axis=\"index\").sum()/df8_US[\"US\"].sum())\n",
    "df9_US_avg=round(df9_US[[\"US\"]].multiply(df9_US[\"Age\"],axis=\"index\").sum()/df9_US[\"US\"].sum())\n",
    "df10_US_avg=round(df10_US[[\"US\"]].multiply(df10_US[\"Age\"],axis=\"index\").sum()/df10_US[\"US\"].sum())\n",
    "df11_US_avg=round(df11_US[[\"US\"]].multiply(df11_US[\"Age\"],axis=\"index\").sum()/df11_US[\"US\"].sum())\n",
    "\n"
   ]
  },
  {
   "cell_type": "code",
   "execution_count": 109,
   "metadata": {},
   "outputs": [
    {
     "name": "stdout",
     "output_type": "stream",
     "text": [
      "df1_avg= US    76.0\n",
      "dtype: float64 \n",
      "df2_avg= US    76.0\n",
      "dtype: float64 \n",
      "df3_avg= US    77.0\n",
      "dtype: float64 \n",
      "df3_avg= US    77.0\n",
      "dtype: float64 df4_avg= US    77.0\n",
      "dtype: float64 \n",
      "df5_avg= US    77.0\n",
      "dtype: float64 \n",
      " df6_avg= US    77.0\n",
      "dtype: float64 \n",
      " df7_avg= US    77.0\n",
      "dtype: float64 \n",
      " df8_avg= US    77.0\n",
      "dtype: float64 \n",
      " df9_avg= US    77.0\n",
      "dtype: float64 \n",
      " df10_avg= US    77.0\n",
      "dtype: float64 \n",
      " df11_avg= US    76.0\n",
      "dtype: float64\n"
     ]
    }
   ],
   "source": [
    "print( \"df1_avg=\", df1_US_avg, '\\n' \"df2_avg=\",df2_US_avg,'\\n'\"df3_avg=\", df3_US_avg,'\\n'\"df3_avg=\",df3_US_avg, \"df4_avg=\",df4_US_avg,'\\n'\"df5_avg=\",df5_US_avg,'\\n',\n",
    "      \"df6_avg=\",df6_US_avg,'\\n',\"df7_avg=\",df7_US_avg,'\\n',\"df8_avg=\",df8_US_avg,'\\n',\"df9_avg=\", df9_US_avg,'\\n',\"df10_avg=\",df10_US_avg,'\\n',\"df11_avg=\",df11_US_avg)"
   ]
  },
  {
   "cell_type": "code",
   "execution_count": 110,
   "metadata": {},
   "outputs": [],
   "source": [
    "#Mean of age through these 3 months\n",
    "Mean_may_June_July= np.array([76,76,77,77,77,77,77,77,77,77,76])"
   ]
  },
  {
   "cell_type": "code",
   "execution_count": 111,
   "metadata": {},
   "outputs": [
    {
     "data": {
      "text/plain": [
       "77.0"
      ]
     },
     "execution_count": 111,
     "metadata": {},
     "output_type": "execute_result"
    }
   ],
   "source": [
    "avg_US= round(np.mean(Mean_may_June_July))\n",
    "avg_US"
   ]
  },
  {
   "cell_type": "code",
   "execution_count": 112,
   "metadata": {},
   "outputs": [],
   "source": [
    "df1_plot=df1.drop(columns=\"US\")\n",
    "df2_plot=df1.drop(columns=\"US\")\n",
    "df3_plot=df1.drop(columns=\"US\")\n",
    "df4_plot=df1.drop(columns=\"US\")\n",
    "df5_plot=df1.drop(columns=\"US\")\n",
    "df6_plot=df1.drop(columns=\"US\")\n",
    "df7_plot=df1.drop(columns=\"US\")\n",
    "df8_plot=df1.drop(columns=\"US\")\n",
    "df9_plot=df1.drop(columns=\"US\")\n",
    "df10_plot=df1.drop(columns=\"US\")\n",
    "df11_plot=df1.drop(columns=\"US\")"
   ]
  },
  {
   "cell_type": "code",
   "execution_count": 113,
   "metadata": {},
   "outputs": [],
   "source": [
    "states_abb=[\"AL\",\"AK\",\"AZ\",\"AR\",\"CA\",\"CO\",\"CT\",\"DE\",\"DoC\",\"FL\",\"GA\",\"HI\",\"ID\",\"IL\",\"IN\",\"IA\",\"KS\",\"KY\",\"LA\",\n",
    "                   \"ME\",\"MD\",\"MA\",\"MI\",\"MN\",\"MS\",\"MO\",\"MT\",\"NE\",\"NV\",\"NH\",\"NJ\",\"NM\",\"NY\",\"NYC\",\"NC\",\"ND\",\"OH\",\"OK\",\"OR\",\"PA\",\"PR\",\n",
    "                   \"RI\",\"SC\",\"SD\",\"TN\",\"TX\",\"UT\",\"VT\",\"VA\",\"WA\",\"WV\",\"WI\",\"WY\"]"
   ]
  },
  {
   "cell_type": "code",
   "execution_count": 114,
   "metadata": {},
   "outputs": [],
   "source": [
    "df1_avg=round(df1[states_abb].multiply(df1[\"Age_group\"],axis=\"index\").sum()/df1[states_abb].sum())\n",
    "\n",
    "df2_avg=round(df2[states_abb].multiply(df2[\"Age_group\"],axis=\"index\").sum()/df2[states_abb].sum())\n",
    "\n",
    "df3_avg=round(df3[states_abb].multiply(df3[\"Age_group\"],axis=\"index\").sum()/df3[states_abb].sum())\n",
    "\n",
    "df4_avg=round(df4[states_abb].multiply(df4[\"Age_group\"],axis=\"index\").sum()/df4[states_abb].sum())\n",
    "\n",
    "df5_avg=round(df5[states_abb].multiply(df5[\"Age_group\"],axis=\"index\").sum()/df5[states_abb].sum())\n",
    "\n",
    "df6_avg=round(df6[states_abb].multiply(df6[\"Age_group\"],axis=\"index\").sum()/df6[states_abb].sum())\n",
    "\n",
    "df7_avg=round(df7[states_abb].multiply(df7[\"Age_group\"],axis=\"index\").sum()/df7[states_abb].sum())\n",
    "\n",
    "df8_avg=round(df8[states_abb].multiply(df8[\"Age_group\"],axis=\"index\").sum()/df8[states_abb].sum())\n",
    "\n",
    "df9_avg=round(df9[states_abb].multiply(df9[\"Age_group\"],axis=\"index\").sum()/df9[states_abb].sum())\n",
    "\n",
    "df10_avg=round(df10[states_abb].multiply(df10[\"Age_group\"],axis=\"index\").sum()/df10[states_abb].sum())\n",
    "\n",
    "df11_avg=round(df11[states_abb].multiply(df11[\"Age_group\"],axis=\"index\").sum()/df11[states_abb].sum())"
   ]
  },
  {
   "cell_type": "code",
   "execution_count": 115,
   "metadata": {},
   "outputs": [],
   "source": [
    "df1_avg=df1_avg.to_numpy()\n",
    "df2_avg=df2_avg.to_numpy()\n",
    "df3_avg=df3_avg.to_numpy()\n",
    "df4_avg=df4_avg.to_numpy()\n",
    "df5_avg=df5_avg.to_numpy()\n",
    "df6_avg=df6_avg.to_numpy()\n",
    "df7_avg=df7_avg.to_numpy()\n",
    "df8_avg=df8_avg.to_numpy()\n",
    "df9_avg=df9_avg.to_numpy()\n",
    "df10_avg=df10_avg.to_numpy()\n",
    "df11_avg=df11_avg.to_numpy()"
   ]
  },
  {
   "cell_type": "code",
   "execution_count": 116,
   "metadata": {},
   "outputs": [],
   "source": [
    "df_5_6_2020_avg = df1_avg[~np.isnan(df1_avg)]\n",
    "df_5_13_2020_avg = df2_avg[~np.isnan(df2_avg)]\n",
    "df_5_28_2020_avg = df3_avg[~np.isnan(df3_avg)]\n",
    "df_6_3_2020_avg = df4_avg[~np.isnan(df4_avg)]\n",
    "df_6_10_2020_avg = df5_avg[~np.isnan(df5_avg)]\n",
    "df_6_17_2020_avg = df6_avg[~np.isnan(df6_avg)]\n",
    "df_6_24_2020_avg = df7_avg[~np.isnan(df7_avg)]\n",
    "df_7_1_2020_avg = df8_avg[~np.isnan(df8_avg)]\n",
    "df_7_8_2020_avg = df9_avg[~np.isnan(df9_avg)]\n",
    "df_7_22_2020_avg = df10_avg[~np.isnan(df10_avg)]\n",
    "df_7_29_2020_avg = df11_avg[~np.isnan(df11_avg)]"
   ]
  },
  {
   "cell_type": "code",
   "execution_count": 117,
   "metadata": {},
   "outputs": [
    {
     "data": {
      "image/png": "[encoded data removed]",
      "text/plain": [
       "<Figure size 432x288 with 1 Axes>"
      ]
     },
     "metadata": {
      "needs_background": "light"
     },
     "output_type": "display_data"
    }
   ],
   "source": [
    "plt.hist(df_5_6_2020_avg, bins = 20)\n",
    "plt.xlim(0,100)\n",
    "plt.xlabel(\"Age\")\n",
    "plt.ylabel(\"Counts for COVID deaths\")\n",
    "plt.title('Average Age for the week of 5_6_2020')\n",
    "plt.axvline(76.0, color='red', linestyle='dashed', linewidth=2)\n",
    "plt.savefig('Fig3.png')\n",
    "plt.show()"
   ]
  },
  {
   "cell_type": "code",
   "execution_count": 118,
   "metadata": {},
   "outputs": [
    {
     "data": {
      "image/png": "[encoded data removed]",
      "text/plain": [
       "<Figure size 1080x1080 with 12 Axes>"
      ]
     },
     "metadata": {
      "needs_background": "light"
     },
     "output_type": "display_data"
    }
   ],
   "source": [
    "n_bins = 10\n",
    "\n",
    "fig, ((ax0, ax1,ax2,ax3), (ax4, ax5,ax6,ax7),(ax8, ax9,ax10,ax11)) = plt.subplots(nrows=3, ncols=4,figsize=(15,15),sharex=True)\n",
    "plt.xlim(0,100)\n",
    "plt.ylim(0,15)\n",
    "plt.title(\"COVID deaths average for different age group through 3 months\")\n",
    "\n",
    "ax0.hist(df_5_6_2020_avg, n_bins)\n",
    "ax0.axvline(76.0, color='red', linestyle='dashed', linewidth=2)\n",
    "ax0.set_title('5_6_2020')\n",
    "\n",
    "ax1.hist(df_5_13_2020_avg, n_bins)\n",
    "ax1.axvline(76.0, color='red', linestyle='dashed', linewidth=2)\n",
    "ax1.set_title('5_13_2020')\n",
    "\n",
    "ax2.hist(df_5_28_2020_avg, n_bins)\n",
    "ax2.axvline(77.0, color='red', linestyle='dashed', linewidth=2)\n",
    "ax2.set_title('5_28_2020')\n",
    "\n",
    "#ax3.hist(df1_5_6_2020_median, n_bins, density=True, histtype='bar')\n",
    "ax3.set_title('no data')\n",
    "\n",
    "ax4.hist(df_6_3_2020_avg, n_bins)\n",
    "ax4.axvline(77.0, color='red', linestyle='dashed', linewidth=2)\n",
    "ax4.set_title('6_3_2020')\n",
    "\n",
    "ax5.hist(df_6_10_2020_avg, n_bins)\n",
    "ax5.axvline(77.0, color='red', linestyle='dashed', linewidth=2)\n",
    "ax5.set_title('6_10_2020')\n",
    "\n",
    "ax6.hist(df_6_17_2020_avg, n_bins)\n",
    "ax6.axvline(77.0, color='red', linestyle='dashed', linewidth=2)\n",
    "ax6.set_title('6_17_2020')\n",
    "\n",
    "ax7.hist(df_6_24_2020_avg, n_bins)\n",
    "ax7.axvline(77.0, color='red', linestyle='dashed', linewidth=2)\n",
    "ax7.set_title('6_24_2020')\n",
    "\n",
    "ax8.hist(df_7_1_2020_avg, n_bins)\n",
    "ax8.axvline(77.0, color='red', linestyle='dashed', linewidth=2)\n",
    "ax8.set_title('7_1_2020')\n",
    "\n",
    "ax9.hist(df_7_8_2020_avg, n_bins)\n",
    "ax9.axvline(77.0, color='red', linestyle='dashed', linewidth=2)\n",
    "ax9.set_title('7_8_2020')\n",
    "\n",
    "ax10.hist(df_7_22_2020_avg, n_bins)\n",
    "ax10.axvline(77.0, color='red', linestyle='dashed', linewidth=2)\n",
    "ax10.set_title('7_22_2020')\n",
    "\n",
    "ax11.hist(df_7_29_2020_avg, n_bins)\n",
    "ax11.axvline(76.0, color='red', linestyle='dashed', linewidth=2)\n",
    "ax11.set_title('7_29_2020')\n",
    "\n",
    "plt.savefig('Fig5.png')"
   ]
  },
  {
   "cell_type": "code",
   "execution_count": 119,
   "metadata": {},
   "outputs": [],
   "source": [
    "# Will now check how the average deaths values has been changed through time \n",
    "# lets check the variability with every week "
   ]
  },
  {
   "cell_type": "code",
   "execution_count": 120,
   "metadata": {},
   "outputs": [],
   "source": [
    "#Let Two sample independent t test \n",
    "#H0= the average death is same through two weeks \n",
    "#Ha= the average death have changed through two weeks "
   ]
  },
  {
   "cell_type": "code",
   "execution_count": 121,
   "metadata": {},
   "outputs": [
    {
     "data": {
      "text/plain": [
       "Ttest_indResult(statistic=0.0, pvalue=1.0)"
      ]
     },
     "execution_count": 121,
     "metadata": {},
     "output_type": "execute_result"
    }
   ],
   "source": [
    "stats.ttest_ind(df_5_6_2020_avg,df_5_13_2020_avg, equal_var = False)"
   ]
  },
  {
   "cell_type": "code",
   "execution_count": 122,
   "metadata": {},
   "outputs": [],
   "source": [
    "# The t test fails to give a conclusion as t value is zero"
   ]
  },
  {
   "cell_type": "code",
   "execution_count": 123,
   "metadata": {},
   "outputs": [
    {
     "data": {
      "text/plain": [
       "Ttest_indResult(statistic=0.4451811037535436, pvalue=0.6575270842263122)"
      ]
     },
     "execution_count": 123,
     "metadata": {},
     "output_type": "execute_result"
    }
   ],
   "source": [
    "stats.ttest_ind(df_5_6_2020_avg,df_5_28_2020_avg, equal_var = False)"
   ]
  },
  {
   "cell_type": "code",
   "execution_count": 124,
   "metadata": {},
   "outputs": [
    {
     "data": {
      "text/plain": [
       "Ttest_indResult(statistic=0.5763833693362548, pvalue=0.5660941928892513)"
      ]
     },
     "execution_count": 124,
     "metadata": {},
     "output_type": "execute_result"
    }
   ],
   "source": [
    "stats.ttest_ind(df_5_6_2020_avg,df_6_3_2020_avg, equal_var = False)"
   ]
  },
  {
   "cell_type": "code",
   "execution_count": 125,
   "metadata": {},
   "outputs": [
    {
     "data": {
      "text/plain": [
       "Ttest_indResult(statistic=0.37667916541002333, pvalue=0.7074109975482787)"
      ]
     },
     "execution_count": 125,
     "metadata": {},
     "output_type": "execute_result"
    }
   ],
   "source": [
    "stats.ttest_ind(df_5_6_2020_avg,df_6_10_2020_avg, equal_var = False)"
   ]
  },
  {
   "cell_type": "code",
   "execution_count": 126,
   "metadata": {},
   "outputs": [
    {
     "data": {
      "text/plain": [
       "Ttest_indResult(statistic=0.7879952021429463, pvalue=0.4332637918223452)"
      ]
     },
     "execution_count": 126,
     "metadata": {},
     "output_type": "execute_result"
    }
   ],
   "source": [
    "stats.ttest_ind(df_5_6_2020_avg,df_6_17_2020_avg, equal_var = False)"
   ]
  },
  {
   "cell_type": "code",
   "execution_count": 127,
   "metadata": {},
   "outputs": [
    {
     "data": {
      "text/plain": [
       "Ttest_indResult(statistic=0.8935257889917665, pvalue=0.3744645039250296)"
      ]
     },
     "execution_count": 127,
     "metadata": {},
     "output_type": "execute_result"
    }
   ],
   "source": [
    "stats.ttest_ind(df_5_6_2020_avg,df_6_24_2020_avg, equal_var = False)"
   ]
  },
  {
   "cell_type": "code",
   "execution_count": 128,
   "metadata": {},
   "outputs": [
    {
     "data": {
      "text/plain": [
       "Ttest_indResult(statistic=1.1577736755021515, pvalue=0.250616234712623)"
      ]
     },
     "execution_count": 128,
     "metadata": {},
     "output_type": "execute_result"
    }
   ],
   "source": [
    "stats.ttest_ind(df_5_6_2020_avg,df_7_1_2020_avg, equal_var = False)"
   ]
  },
  {
   "cell_type": "code",
   "execution_count": 129,
   "metadata": {},
   "outputs": [
    {
     "data": {
      "text/plain": [
       "Ttest_indResult(statistic=1.1577736755021515, pvalue=0.250616234712623)"
      ]
     },
     "execution_count": 129,
     "metadata": {},
     "output_type": "execute_result"
    }
   ],
   "source": [
    "stats.ttest_ind(df_5_6_2020_avg,df_7_8_2020_avg, equal_var = False)"
   ]
  },
  {
   "cell_type": "code",
   "execution_count": 130,
   "metadata": {},
   "outputs": [
    {
     "data": {
      "text/plain": [
       "Ttest_indResult(statistic=1.9132322511594335, pvalue=0.05897261135734605)"
      ]
     },
     "execution_count": 130,
     "metadata": {},
     "output_type": "execute_result"
    }
   ],
   "source": [
    "stats.ttest_ind(df_5_6_2020_avg,df_7_22_2020_avg, equal_var = False)"
   ]
  },
  {
   "cell_type": "code",
   "execution_count": 131,
   "metadata": {},
   "outputs": [
    {
     "data": {
      "text/plain": [
       "Ttest_indResult(statistic=2.02892592690863, pvalue=0.0454902826086472)"
      ]
     },
     "execution_count": 131,
     "metadata": {},
     "output_type": "execute_result"
    }
   ],
   "source": [
    "stats.ttest_ind(df_5_6_2020_avg,df_7_29_2020_avg, equal_var = False)"
   ]
  },
  {
   "cell_type": "code",
   "execution_count": 132,
   "metadata": {},
   "outputs": [],
   "source": [
    "# Here we did the t test for the week of 5_6_2020 to all the later weeks\n",
    "# The results shows that for the immediate next week i.e 5_13_2020 the t test failed\n",
    "# The following weeks of 5_28_2020, 6_3_2020, 6_10_2020, 6_17_2020, 6_24_2020, 7_1_2020, 7_8_2020 and 7_22_2020 the average deaths for different age groups did \n",
    "# changed as the p value is greater that 5% and accept the alternate hypothesis and cannot reject the null hypothesis\n",
    "\n",
    "# For the week of 7_29_2020 the null hypothesis can be rejected as the p value is less than 5%, so we can say that \n",
    "#in recent months of July and August the average age for the COVID-19 deaths have changed. The outliers present in \n",
    "# in the week of 7_29_2020 is the specific reason for it. \n",
    "\n",
    "# Also the average death rates is higher in the month of June as compared to May  and July as can be seen from the graphs\n",
    "\n"
   ]
  },
  {
   "cell_type": "code",
   "execution_count": 133,
   "metadata": {},
   "outputs": [],
   "source": [
    "# Lets check what are the outliers in the plot for 7_22_2020 and 7_29_2020"
   ]
  },
  {
   "cell_type": "code",
   "execution_count": 134,
   "metadata": {},
   "outputs": [],
   "source": [
    "df_min=pd.DataFrame({\"state\":states_abb,\"death\":df10_avg})"
   ]
  },
  {
   "cell_type": "code",
   "execution_count": 135,
   "metadata": {},
   "outputs": [
    {
     "name": "stdout",
     "output_type": "stream",
     "text": [
      "   state  death\n",
      "40    PR   50.0\n"
     ]
    }
   ],
   "source": [
    "print(df_min[df_min.death == df_min.death.min()])"
   ]
  },
  {
   "cell_type": "code",
   "execution_count": 136,
   "metadata": {},
   "outputs": [],
   "source": [
    "df_min=pd.DataFrame({\"state\":states_abb,\"death\":df11_avg})"
   ]
  },
  {
   "cell_type": "code",
   "execution_count": 137,
   "metadata": {},
   "outputs": [
    {
     "name": "stdout",
     "output_type": "stream",
     "text": [
      "   state  death\n",
      "40    PR   50.0\n"
     ]
    }
   ],
   "source": [
    "print(df_min[df_min.death == df_min.death.min()])"
   ]
  },
  {
   "cell_type": "code",
   "execution_count": 138,
   "metadata": {},
   "outputs": [],
   "source": [
    "# The outliers in the plot for week 7_22_2020 and 7_9_2020 both belongs to Puerto Rico"
   ]
  },
  {
   "cell_type": "code",
   "execution_count": 139,
   "metadata": {},
   "outputs": [],
   "source": [
    "#interactive plotting"
   ]
  },
  {
   "cell_type": "code",
   "execution_count": 140,
   "metadata": {},
   "outputs": [],
   "source": [
    "df_interact=pd.DataFrame({\"5_6_2020\": df1_avg, \"5_13_2020\": df2_avg ,\"5_28_2020\": df3_avg ,\n",
    "                          \"6_3_2020\": df4_avg ,\"6_10_2020\": df5_avg ,\"6_17_2020\":df6_avg,\"6_24_2020\":df7_avg,\n",
    "                          \"7_1_2020\":df8_avg,\"7_8_2020\":df9_avg,\"7_22_2020\":df10_avg,\"7_29_2020\":df11_avg})"
   ]
  },
  {
   "cell_type": "code",
   "execution_count": 141,
   "metadata": {},
   "outputs": [],
   "source": [
    "def plotyear(date):\n",
    "    df_interact[date].plot.hist(bins=20)\n",
    "    plt.axis(ymin=0,ymax=15,xmin=0,xmax=100)\n",
    "    plt.xlabel('Age')\n",
    "    plt.ylabel('Covid')"
   ]
  },
  {
   "cell_type": "code",
   "execution_count": 142,
   "metadata": {},
   "outputs": [
    {
     "data": {
      "application/vnd.jupyter.widget-view+json": {
       "model_id": "064faab18cf6405f80d04379b18fe9e7",
       "version_major": 2,
       "version_minor": 0
      },
      "text/plain": [
       "interactive(children=(Dropdown(description='date', options=('5_6_2020', '5_13_2020', '6_3_2020', '6_10_2020', …"
      ]
     },
     "metadata": {},
     "output_type": "display_data"
    },
    {
     "data": {
      "text/plain": [
       "<function __main__.plotyear(date)>"
      ]
     },
     "execution_count": 142,
     "metadata": {},
     "output_type": "execute_result"
    }
   ],
   "source": [
    "interact(plotyear,date=['5_6_2020','5_13_2020','6_3_2020','6_10_2020','6_17_2020','6_24_2020','7_1_2020','7_8_2020',\n",
    "                        '7_22_2020','7_29_2020'])"
   ]
  },
  {
   "cell_type": "code",
   "execution_count": 143,
   "metadata": {},
   "outputs": [],
   "source": [
    "df1_avg_=np.nan_to_num(df1_avg)\n",
    "df2_avg_=np.nan_to_num(df2_avg)\n",
    "df3_avg_=np.nan_to_num(df3_avg)\n",
    "df4_avg_=np.nan_to_num(df4_avg)\n",
    "df5_avg_=np.nan_to_num(df5_avg)\n",
    "df6_avg_=np.nan_to_num(df6_avg)\n",
    "df7_avg_=np.nan_to_num(df7_avg)\n",
    "df8_avg_=np.nan_to_num(df8_avg)\n",
    "df9_avg_=np.nan_to_num(df9_avg)\n",
    "df10_avg_=np.nan_to_num(df10_avg)\n",
    "df11_avg_=np.nan_to_num(df11_avg)"
   ]
  },
  {
   "cell_type": "code",
   "execution_count": 144,
   "metadata": {},
   "outputs": [],
   "source": [
    "data1=abs(df1_avg_- df2_avg_)\n",
    "data2=abs(df1_avg_- df3_avg_)\n",
    "data3=abs(df1_avg_- df4_avg_)\n",
    "data4=abs(df1_avg_- df5_avg_)\n",
    "data5=abs(df1_avg_- df6_avg_)\n",
    "data6=abs(df1_avg_- df7_avg_)\n",
    "data7=abs(df1_avg_- df8_avg_)\n",
    "data8=abs(df1_avg_- df9_avg_)\n",
    "data9=abs(df1_avg_- df10_avg_)\n",
    "data10=abs(df1_avg_- df11_avg_)\n"
   ]
  },
  {
   "cell_type": "code",
   "execution_count": 145,
   "metadata": {},
   "outputs": [],
   "source": [
    "def mean_confidence_interval(data, confidence=0.95):\n",
    "    a = 1.0 * np.array(data)\n",
    "    n = len(a)\n",
    "    m, se = np.mean(a), scipy.stats.sem(a)\n",
    "    h = se * scipy.stats.t.ppf((1 + confidence) / 2., n-1)\n",
    "    return m, m-h, m+h"
   ]
  },
  {
   "cell_type": "code",
   "execution_count": 146,
   "metadata": {},
   "outputs": [
    {
     "data": {
      "text/plain": [
       "(0.7547169811320755, 0.3924765913635731, 1.116957370900578)"
      ]
     },
     "execution_count": 146,
     "metadata": {},
     "output_type": "execute_result"
    }
   ],
   "source": [
    "mean_confidence_interval(data1,confidence=0.95)"
   ]
  },
  {
   "cell_type": "code",
   "execution_count": 147,
   "metadata": {},
   "outputs": [
    {
     "data": {
      "text/plain": [
       "(7.490566037735849, 1.6291022333137333, 13.352029842157965)"
      ]
     },
     "execution_count": 147,
     "metadata": {},
     "output_type": "execute_result"
    }
   ],
   "source": [
    "mean_confidence_interval(data2,confidence=0.95)"
   ]
  },
  {
   "cell_type": "code",
   "execution_count": 148,
   "metadata": {},
   "outputs": [
    {
     "data": {
      "text/plain": [
       "(9.056603773584905, 2.444385549420547, 15.668821997749264)"
      ]
     },
     "execution_count": 148,
     "metadata": {},
     "output_type": "execute_result"
    }
   ],
   "source": [
    "mean_confidence_interval(data3,confidence=0.95)"
   ]
  },
  {
   "cell_type": "code",
   "execution_count": 149,
   "metadata": {},
   "outputs": [
    {
     "data": {
      "text/plain": [
       "(10.849056603773585, 3.5875031282572554, 18.110610079289913)"
      ]
     },
     "execution_count": 149,
     "metadata": {},
     "output_type": "execute_result"
    }
   ],
   "source": [
    "mean_confidence_interval(data4,confidence=0.95)"
   ]
  },
  {
   "cell_type": "code",
   "execution_count": 150,
   "metadata": {},
   "outputs": [
    {
     "data": {
      "text/plain": [
       "(10.754716981132075, 3.6733609402718166, 17.836073021992334)"
      ]
     },
     "execution_count": 150,
     "metadata": {},
     "output_type": "execute_result"
    }
   ],
   "source": [
    "mean_confidence_interval(data5,confidence=0.95)"
   ]
  },
  {
   "cell_type": "code",
   "execution_count": 151,
   "metadata": {},
   "outputs": [
    {
     "data": {
      "text/plain": [
       "(10.849056603773585, 3.7227636609048247, 17.975349546642345)"
      ]
     },
     "execution_count": 151,
     "metadata": {},
     "output_type": "execute_result"
    }
   ],
   "source": [
    "mean_confidence_interval(data6,confidence=0.95)"
   ]
  },
  {
   "cell_type": "code",
   "execution_count": 152,
   "metadata": {},
   "outputs": [
    {
     "data": {
      "text/plain": [
       "(10.88679245283019, 3.788794465878543, 17.984790439781836)"
      ]
     },
     "execution_count": 152,
     "metadata": {},
     "output_type": "execute_result"
    }
   ],
   "source": [
    "mean_confidence_interval(data7,confidence=0.95)"
   ]
  },
  {
   "cell_type": "code",
   "execution_count": 153,
   "metadata": {},
   "outputs": [
    {
     "data": {
      "text/plain": [
       "(10.88679245283019, 3.788794465878543, 17.984790439781836)"
      ]
     },
     "execution_count": 153,
     "metadata": {},
     "output_type": "execute_result"
    }
   ],
   "source": [
    "mean_confidence_interval(data8,confidence=0.95)"
   ]
  },
  {
   "cell_type": "code",
   "execution_count": 154,
   "metadata": {},
   "outputs": [
    {
     "data": {
      "text/plain": [
       "(11.641509433962264, 4.6372864532841875, 18.645732414640342)"
      ]
     },
     "execution_count": 154,
     "metadata": {},
     "output_type": "execute_result"
    }
   ],
   "source": [
    "mean_confidence_interval(data9,confidence=0.95)"
   ]
  },
  {
   "cell_type": "code",
   "execution_count": 155,
   "metadata": {},
   "outputs": [
    {
     "data": {
      "text/plain": [
       "(11.641509433962264, 4.668017249022235, 18.615001618902294)"
      ]
     },
     "execution_count": 155,
     "metadata": {},
     "output_type": "execute_result"
    }
   ],
   "source": [
    "mean_confidence_interval(data10,confidence=0.95)"
   ]
  },
  {
   "cell_type": "code",
   "execution_count": 156,
   "metadata": {},
   "outputs": [],
   "source": [
    "#The variation in the average value through May to July has ranged from 0.7 years to 10 years. So we can say although the report of COVID infections has been \n",
    "#reported fo rthe young age the deaths average value remain around 77 years \n",
    "\n",
    "# we could do the analysis by removing Puerto Rico value"
   ]
  },
  {
   "cell_type": "code",
   "execution_count": 157,
   "metadata": {},
   "outputs": [],
   "source": [
    "df10_avg_no_PR=np.delete(df10_avg_,40)\n",
    "df11_avg_no_PR=np.delete(df11_avg_,40)"
   ]
  },
  {
   "cell_type": "code",
   "execution_count": 158,
   "metadata": {},
   "outputs": [],
   "source": [
    "df1_avg_no_PR=np.delete(df1_avg_,40)"
   ]
  },
  {
   "cell_type": "code",
   "execution_count": 159,
   "metadata": {},
   "outputs": [],
   "source": [
    "data9_no_PR=abs(df1_avg_no_PR - df10_avg_no_PR)\n",
    "data10_no_PR=abs(df1_avg_no_PR - df11_avg_no_PR)"
   ]
  },
  {
   "cell_type": "code",
   "execution_count": 160,
   "metadata": {},
   "outputs": [
    {
     "data": {
      "text/plain": [
       "(10.903846153846153, 3.921617417206173, 17.886074890486135)"
      ]
     },
     "execution_count": 160,
     "metadata": {},
     "output_type": "execute_result"
    }
   ],
   "source": [
    "mean_confidence_interval(data9_no_PR,confidence=0.95)"
   ]
  },
  {
   "cell_type": "code",
   "execution_count": 161,
   "metadata": {},
   "outputs": [
    {
     "data": {
      "text/plain": [
       "(10.903846153846153, 3.953687169845618, 17.854005137846688)"
      ]
     },
     "execution_count": 161,
     "metadata": {},
     "output_type": "execute_result"
    }
   ],
   "source": [
    "mean_confidence_interval(data10_no_PR,confidence=0.95)"
   ]
  },
  {
   "cell_type": "code",
   "execution_count": 162,
   "metadata": {},
   "outputs": [],
   "source": [
    "#This confirms the above hypothesis and with 95% confidence we can that the significance of a shift over time,\n",
    "# for age magnitude lies between 0.7 years to 10 years ."
   ]
  },
  {
   "cell_type": "code",
   "execution_count": null,
   "metadata": {},
   "outputs": [],
   "source": []
  }
 ],
 "metadata": {
  "kernelspec": {
   "display_name": "Python 3",
   "language": "python",
   "name": "python3"
  },
  "language_info": {
   "codemirror_mode": {
    "name": "ipython",
    "version": 3
   },
   "file_extension": ".py",
   "mimetype": "text/x-python",
   "name": "python",
   "nbconvert_exporter": "python",
   "pygments_lexer": "ipython3",
   "version": "3.7.6"
  }
 },
 "nbformat": 4,
 "nbformat_minor": 4
}
